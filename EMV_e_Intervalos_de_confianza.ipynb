{
  "nbformat": 4,
  "nbformat_minor": 0,
  "metadata": {
    "colab": {
      "provenance": [],
      "include_colab_link": true
    },
    "kernelspec": {
      "name": "python3",
      "display_name": "Python 3"
    },
    "language_info": {
      "name": "python"
    }
  },
  "cells": [
    {
      "cell_type": "markdown",
      "metadata": {
        "id": "view-in-github",
        "colab_type": "text"
      },
      "source": [
        "<a href=\"https://colab.research.google.com/github/RachWatlo/ModelosEstadisticos/blob/main/EMV_e_Intervalos_de_confianza.ipynb\" target=\"_parent\"><img src=\"https://colab.research.google.com/assets/colab-badge.svg\" alt=\"Open In Colab\"/></a>"
      ]
    },
    {
      "cell_type": "markdown",
      "source": [
        "##$\\color{cadetblue}{\\text{Equipo 3}}$\n",
        "- Einar Romero Toledo\n",
        "- Guadalupe López Ascencio\n",
        "- María Fernanda Barbabosa García\n",
        "- Oscar Jair Amaro Santiago\n",
        "- Raquel Ortiz Moran\n"
      ],
      "metadata": {
        "id": "v1gl-0fLHzsb"
      }
    },
    {
      "cell_type": "markdown",
      "source": [
        "# $\\color{cadetblue}{\\text{Tarea.}}$"
      ],
      "metadata": {
        "id": "bmcQXstdJ8eu"
      }
    },
    {
      "cell_type": "markdown",
      "source": [
        "-  Una v.a. $X$, es exponencial con paràmetro $\\lambda>0$ si\n",
        "$$\\mathbb{P}(X)=1-e^{-\\lambda x}, x>0$$\n",
        "Calcular el EMV.\n",
        "$$\\text{ }$$\n",
        "\n",
        "Sabemos que la CDF dada corresponde a una distribución exponencial, cuya función de densidad se define como:\n",
        "$$f_{X}(x)=\\begin{cases}\n",
        "\\lambda e^{-\\lambda x} & x>0\\\\\n",
        "0 & \\text{en otro caso}\n",
        "\\end{cases}$$\n",
        "$$\\text{ }$$\n",
        "Dado un conjunto de v.a.i.i.d $x_1, x_2,...,x_n$ y utilizando PDF en la definición de EMV tenemos que:\n",
        "$$\\begin{align*}\n",
        "L(\\lambda)=L(x_1,x_2,...x_n;\\lambda)&=\\prod_{i=1}^{n}f(x_i)\\\\\n",
        "&\\text{}\\\\\n",
        "&=\\prod_{i=1}^{n}\\lambda e^{-\\lambda x_i}\\\\\n",
        "&\\text{}\\\\\n",
        "&=\\lambda e^{-\\lambda x_1} \\cdot \\lambda e^{-\\lambda x_2} \\cdots \\lambda e^{-\\lambda x_n}\\\\\n",
        "&\\text{}\\\\\n",
        "&=\\lambda^{n}e^{-\\lambda(x_1+x_2+..+x_n)}\\\\\n",
        "&\\text{}\\\\\n",
        "&=\\lambda^{n}e^{-\\lambda\\sum_{i=1}^{n}x_i}\\\\\n",
        "&\\text{}\\\\\n",
        "\\ell(L(\\lambda))=\\log L(x_1,x_2,...x_n;\\lambda)&=\\log \\left( \\prod_{i=1}^{n}f(x_i)\\right)\\\\\n",
        "&\\text{}\\\\\n",
        "&=\\log\\left( \\lambda^{n}e^{-\\lambda\\sum_{i=1}^{n}x_i} \\right)\\\\\n",
        "&=n\\text{ }\\log \\text{ }\\lambda-\\lambda\\sum_{i=1}^{n}x_i\n",
        "\\end{align*}$$\n",
        "$$\\text{}$$\n",
        "\n",
        "\n",
        "Derivando la Log-verosimilitud,\n",
        "$$\\frac{d\\ell(L(\\lambda))}{d\\lambda}=\\frac{d}{d\\lambda} \\left[ n\\text{ }\\log \\text{ }\\lambda-\\lambda\\sum_{i=1}^{n}x_i \\right] =\\frac{n}{\\lambda}-\\sum_{i=1}^{n}x_i$$\n",
        "\n",
        "Igualamos la derivada a cero para obtener el estimador y resolvemos para $\\lambda$.\n",
        "$$\\frac{n}{\\lambda}-\\sum_{i=1}^{n}x_i=0$$\n",
        "$$\\text{}$$\n",
        "$$\\lambda=\\frac{n}{\\sum_{i=1}^{n}x_i}$$\n",
        "$$\\text{}$$\n",
        "Sabemos que $\\bar x=\\frac{1}{n}\\sum_{i=1}^{n}x_i$\n",
        "$$\\text{}$$\n",
        "$$\\therefore \\text{ }\\hat{\\lambda}=\\frac{n}{\\sum_{i=1}^{n}x_i}=\\frac{1}{\\bar x}$$\n",
        "\n",
        "\n",
        "\n"
      ],
      "metadata": {
        "id": "EFZUU49H-t6b"
      }
    },
    {
      "cell_type": "markdown",
      "source": [
        "- Supongamos que la vida útil de los focos de cierta marca se modela mediante una distribicuón exponencial con parámetro desconocido $\\lambda$. Probamos 5 focos y encontramos que la vida útil de $2,3,1,3$ y $4$ años respectivamente. ¿Cuál es el EMV para $\\lambda$?\n",
        "  \n",
        "De acuerdo al ejercicio anterior, tenemos que el EMV está dado como:\n",
        "\n",
        "$$\\hat{\\lambda}=\\frac{n}{\\sum_{i=1}^{n} x_i}=\\frac{1}{\\bar{x}}$$\n",
        "\n",
        "Ahora, $n=5$, y considerando las observaciones obtenidas tenemos que:\n",
        "$$\\sum_{i=1}^{5} x_i=2+3+1+3+4=13$$\n",
        "\n",
        "Sustituyendo, se tiene que el EMV para $\\lambda$ es:\n",
        "$$\\hat{\\lambda}=\\frac{5}{13}\\approx{0.3846}$$\n"
      ],
      "metadata": {
        "id": "NwVgABBZcBV4"
      }
    },
    {
      "cell_type": "code",
      "source": [
        "from scipy.stats import expon\n",
        "import numpy as np\n",
        "import sympy #Para cálculo simbólico y algebraico\n",
        "from sympy.abc import x,z,n\n",
        "\n",
        "rexp=[2,3,1,3,4]\n",
        "\n",
        "#Crear la variable simbolica lambda\n",
        "lam=sympy.symbols('lam', positive=True)\n",
        "\n",
        "#Define la función exponencial\n",
        "f=lam*sympy.exp(-lam*x)\n",
        "J= np.prod([f.subs(x,i) for i in rexp]) #Verosimilitud total donde toma las xi de r\n",
        "logJ = sympy.expand_log(sympy.log(J)) #Logaritmo de la verosimilitud\n",
        "lamhat=sympy.solve(sympy.diff(logJ,lam),lam)[0] #lambda gorrito que es el EMV\n",
        "print(\"El estimador de máxima verosimilitud es\",lamhat)\n"
      ],
      "metadata": {
        "colab": {
          "base_uri": "https://localhost:8080/"
        },
        "id": "a4W3BKl8mCte",
        "outputId": "4f3b0376-a730-4fa6-e4fd-e78dd2eb817c"
      },
      "execution_count": 1,
      "outputs": [
        {
          "output_type": "stream",
          "name": "stdout",
          "text": [
            "El estimador de máxima verosimilitud es 5/13\n"
          ]
        }
      ]
    },
    {
      "cell_type": "markdown",
      "source": [
        "- Suponga que se tiene una variable aleatoria discreta $X$ con densidad:\n",
        "\t\\begin{align*}\n",
        "\tP(X=0)&=\\frac{2}{3}\\theta,\\\\\n",
        "\tP(X=1)&=\\frac{1}{3}\\theta,\\\\\n",
        "\tP(X=2)&=\\frac{2}{3}(1-\\theta),\\\\\n",
        "\tP(X=3)&=\\frac{1}{3}(1-\\theta)\n",
        "\t\\end{align*}\n",
        "  con $\\theta\\in [0,1]$. Se toman las siguientes $10$ observaciones independientes de acuerdo a la distribución dada:\n",
        "  $$(3, 0, 2, 1, 3, 2, 1, 0, 2, 1).$$\n",
        "  Encuentra el EMV de $\\theta$.\n",
        "\n",
        "  Para resolverlo, conocemos que de acuerdo a las observaciones\n",
        "  $$X=0 \\text{ ; se repite 2 veces}$$\n",
        "  $$X=1 \\text{ ; se repite 3 veces}$$\n",
        "  $$X=2 \\text{ ; se repite 3 veces}$$\n",
        "  $$X=3 \\text{ ; se repite 2 veces}$$\n",
        "\n",
        "  Por lo de acuerdo con el EMV\n",
        "  $$\\begin{align*}\n",
        "L(\\theta)=L(x_1,x_2,...x_n;\\lambda)&=\\prod_{i=1}^{n}f(x_i)\\\\\n",
        "&\\text{}\\\\\n",
        "&=\\left( \\frac{2}{3}\\theta \\right)^2 \\left( \\frac{1}{3}\\theta\\right)^3 \\left[ \\frac{2}{3}(1-\\theta)\\right]^3 \\left[ \\frac{1}{3}(1-\\theta)\\right]^2\\\\\n",
        "\\text{}\\\\\n",
        "\\ell(L(\\theta))=\\log L(x_1,x_2,...x_n;\\lambda)&=\\log \\left( \\prod_{i=1}^{n}f(x_i)\\right)\\\\\n",
        "\\text{}\\\\\n",
        "&=\\log  \\left [ \\left( \\frac{2}{3}\\theta \\right)^2 \\left( \\frac{1}{3}\\theta\\right)^3 \\left[ \\frac{2}{3}(1-\\theta)\\right]^3 \\left[ \\frac{1}{3}(1-\\theta)\\right]^2 \\right ]\\\\\n",
        "\\text{}\\\\\n",
        "&=2\\log \\left( \\frac{2}{3}\\theta \\right)+3\\log \\left( \\frac{1}{3}\\theta\\right)+3\\log \\left[ \\frac{2}{3}(1-\\theta)\\right]+2\\log\\left[ \\frac{1}{3}(1-\\theta)\\right]\\\\\n",
        "\\text{}\\\\\n",
        "&=2\\left[ \\log\\left( \\frac{2}{3}\\right)+\\log\\theta \\right]+3\\left[ \\log\\left( \\frac{1}{3}\\right)+\\log\\theta \\right]+3\\left[ \\log\\left( \\frac{2}{3}\\right)+\\log(1-\\theta)\\right]+2\\left[ \\log\\left( \\frac{1}{3}\\right)+\\log(1-\\theta) \\right]\\\\\n",
        "\\text{}\\\\\n",
        "&= 2\\log\\left( \\frac{2}{3}\\right)+2\\log\\theta+3\\log\\left( \\frac{1}{3}\\right)+3\\log\\theta+3\\log\\left( \\frac{2}{3}\\right)+3\\log(1-\\theta)+2\\log\\left( \\frac{1}{3}\\right)+2\\log(1-\\theta)\\\\\n",
        "\\text{}\\\\\n",
        "&=5\\log\\theta+5\\log(1-\\theta)+\\left[2\\log\\left( \\frac{2}{3}\\right)+3\\log\\left( \\frac{1}{3}\\right)+3\\log\\left( \\frac{2}{3}\\right)+2\\log\\left( \\frac{1}{3}\\right)\\right]\n",
        "\\end{align*}$$\n",
        "\n",
        "Se maximiza $\\ell(L(\\theta))$\n",
        "$$\\text{ }$$\n",
        "$$\\begin{align*}\n",
        "\\frac{d\\ell}{d\\theta}L(\\lambda)&=\\frac{d\\ell}{d\\theta}\\left[ 5\\log\\theta+5\\log(1-\\theta)+\\left[2\\log\\left( \\frac{2}{3}\\right)+3\\log\\left( \\frac{1}{3}\\right)+3\\log\\left( \\frac{2}{3}\\right)+2\\log\\left( \\frac{1}{3}\\right)\\right] \\right]\\\\\n",
        "\\text{}\\\\\n",
        "&=\\frac{5}{\\theta}-\\frac{5}{1-\\theta}\n",
        "\\end{align*}\n",
        "$$\n",
        "\n",
        "Igualando con cero, tenemos que:\n",
        "$$\\text{}$$\n",
        "$$\\frac{5}{\\theta}-\\frac{5}{1-\\theta}=0$$\n",
        "$$\\text{}$$\n",
        "$$\\frac{5}{\\theta}=\\frac{5}{1-\\theta}$$\n",
        "$$\\text{}$$\n",
        "$$2\\theta=1$$\n",
        "$$\\text{}$$\n",
        "$$\\theta=\\frac{1}{2}$$\n",
        "\n",
        "Por último, verificamos si $\\theta=\\frac{1}{2}$ es un máximo local. Para esto, calculamos la segunda derivada de la función de log-verosimilitud. Derivando nuevamente la expresión de la primera derivada tenemos que:\n",
        "\n",
        "$$\n",
        "\\frac{d^2}{d\\theta^2} \\log L(\\theta) = -\\frac{5}{\\theta^2} - \\frac{5}{(1 - \\theta)^2}.\n",
        "$$\n",
        "\n",
        "Evaluamos la segunda derivada en $\\theta = \\frac{1}{2}$ para comprobar su signo:\n",
        "\n",
        "$$\n",
        "\\frac{d^2}{d\\theta^2} \\log L\\left(\\frac{1}{2}\\right) = -\\frac{5}{\\left(\\frac{1}{2}\\right)^2} - \\frac{5}{\\left(1 - \\frac{1}{2}\\right)^2}= -\\frac{5}{\\frac{1}{4}} - \\frac{5}{\\frac{1}{4}}=-20-20=-40\n",
        "$$\n",
        "\n",
        "Como la segunda derivada es $-40$, un valor negativo, podemos decir que la función de log-verosimilitud es cóncava en el punto $\\theta = \\frac{1}{2}$, y por tanto este valor es un **máximo local** de la función de log-verosimilitud. De esta manera,\n",
        "\n",
        "$$\\hat{\\theta}=\\frac{1}{2}$$\n"
      ],
      "metadata": {
        "id": "FdYXIhyN0uRi"
      }
    },
    {
      "cell_type": "code",
      "source": [
        "import sympy as sp\n",
        "\n",
        "# Definir la variable theta\n",
        "theta = sp.symbols('theta', real=True, positive=True)\n",
        "\n",
        "# Definir la función de log-verosimilitud\n",
        "log_likelihood = sp.log(2**5 / 3**10) + 5 * sp.log(theta) + 5 * sp.log(1 - theta)\n",
        "\n",
        "# Primera derivada de la log-verosimilitud\n",
        "first_derivative = sp.diff(log_likelihood, theta)\n",
        "\n",
        "# Resolver la primera derivada igualada a cero para encontrar los puntos críticos\n",
        "critical_points = sp.solve(first_derivative, theta)\n",
        "\n",
        "# Segunda derivada de la log-verosimilitud\n",
        "second_derivative = sp.diff(first_derivative, theta)\n",
        "\n",
        "# Evaluar la segunda derivada en el punto crítico theta = 1/2\n",
        "theta_value = critical_points[0]\n",
        "second_derivative_at_critical = second_derivative.subs(theta, theta_value)\n",
        "\n",
        "# Verificar si el punto crítico es un máximo\n",
        "if second_derivative_at_critical < 0:\n",
        "    print(f\"El estimador de máxima verosimilitud es: {theta_value}\")\n",
        "else:\n",
        "    print(\"El punto crítico no es un máximo local.\")"
      ],
      "metadata": {
        "colab": {
          "base_uri": "https://localhost:8080/"
        },
        "id": "ymq1RLQ36-bM",
        "outputId": "3bfec08d-a377-45e7-c553-832742476696"
      },
      "execution_count": 2,
      "outputs": [
        {
          "output_type": "stream",
          "name": "stdout",
          "text": [
            "El estimador de máxima verosimilitud es: 1/2\n"
          ]
        }
      ]
    },
    {
      "cell_type": "markdown",
      "source": [
        "## Intervalos de confianza\n",
        "\n",
        "- En una encuesta de la UP, 225 estudiantes son seleccionados al azar de los que toman cálculo y se les pregunta si cálculo es su materia favorita. 100 estudiantes responden que el cálculo es su materia favorita. Proporcione un intervalo de confianza del 95%  para la proporción de todos los estudiantes que toman cálculo y que la consideran su materia favorita.  \n",
        "\n"
      ],
      "metadata": {
        "id": "rjeoDN80Z8V0"
      }
    },
    {
      "cell_type": "markdown",
      "source": [
        "El intervalo de confianza del 95% para la proporción de los estudiantes que consideran cálculo como su materia favorita se calcula de la siguiente manera:\n",
        "\n",
        "$$\n",
        "\\hat{p} \\pm Z_{\\alpha/2} \\sqrt{\\frac{\\hat{p}(1 - \\hat{p})}{n}}\n",
        "$$\n",
        "\n",
        "Donde:\n",
        "- $\\hat{p} = \\frac{x}{n} = \\frac{100}{225} \\approx 0.444$ es la proporción muestral.\n",
        "- $n = 225$ es el tamaño de la muestra.\n",
        "- $Z_{\\alpha/2} = 1.96$ para un nivel de confianza del 95%.\n",
        "\n",
        "Paso 1: Calcular el error estándar\n",
        "\n",
        "$$\n",
        "\\text{Error estándar} = \\sqrt{\\frac{\\hat{p}(1 - \\hat{p})}{n}} = \\sqrt{\\frac{0.444(1 - 0.444)}{225}} \\approx \\sqrt{\\frac{0.247}{225}} \\approx 0.033\n",
        "$$\n",
        "\n",
        "Paso 2: Calcular el intervalo de confianza\n",
        "\n",
        "$$\n",
        "\\hat{p} \\pm Z_{\\alpha/2} \\cdot \\text{Error estándar} = 0.444 \\pm 1.96 \\times 0.033\n",
        "$$\n",
        "\n",
        "$$\n",
        "0.444 \\pm 0.065\n",
        "$$\n",
        "\n",
        "Por tanto, el intervalo de confianza del 95% para la proporción de todos los estudiantes que consideran cálculo como su materia favorita es:\n",
        "\n",
        "$$\n",
        "(0.379, 0.509)\n",
        "$$\n"
      ],
      "metadata": {
        "id": "nu1mJExovigF"
      }
    },
    {
      "cell_type": "code",
      "source": [
        "import numpy as np\n",
        "from scipy.stats import norm\n",
        "\n",
        "# Datos\n",
        "n = 225\n",
        "x = 100\n",
        "p_hat = x / n\n",
        "\n",
        "# Nivel de confianza\n",
        "z = norm.ppf(0.975)  # Valor crítico para 95%\n",
        "\n",
        "# Error estándar\n",
        "se = np.sqrt(p_hat * (1 - p_hat) / n)\n",
        "\n",
        "# Intervalo de confianza\n",
        "margin_of_error = z * se\n",
        "ci_lower = p_hat - margin_of_error\n",
        "ci_upper = p_hat + margin_of_error\n",
        "\n",
        "print(f\"El intervalo de confianza del 95% para la proporción de todos los estudiantes que consideran cálculo como su materia favorita es: ({ci_lower}, {ci_upper})\")"
      ],
      "metadata": {
        "colab": {
          "base_uri": "https://localhost:8080/"
        },
        "id": "Zi_EYF5OcLzj",
        "outputId": "6a5fccef-aac2-473c-dff1-67ab709909aa"
      },
      "execution_count": 3,
      "outputs": [
        {
          "output_type": "stream",
          "name": "stdout",
          "text": [
            "El intervalo de confianza del 95% para la proporción de todos los estudiantes que consideran cálculo como su materia favorita es: (0.37951684884617914, 0.5093720400427098)\n"
          ]
        }
      ]
    },
    {
      "cell_type": "markdown",
      "source": [
        "- Los datos$1, 2, 3, 4$ se toman a partir de una distribución normal $N(\\mu,\\sigma^2)$ con $\\mu$ desconocida.\n",
        "  1. Encuentra un intervalo de confianza al nivel de $90\\%$ para $\\mu$, dado que $\\sigma =2$.\n"
      ],
      "metadata": {
        "id": "8E5Zj8lncMUH"
      }
    },
    {
      "cell_type": "markdown",
      "source": [
        "Para un intervalo de confianza al $90\\%$, necesitamos el valor crítico de $Z_{\\alpha/2}$. Para un nivel de confianza del $90\\%$, $\\alpha = 0.10$ y $\\alpha/2 = 0.05$. Por lo tanto, $Z_{0.05} = 1.645$.\n",
        "\n",
        "Paso 1: Calcular la media muestral\n",
        "\n",
        "$$\n",
        "\\bar{x} = \\frac{1 + 2 + 3 + 4}{4} = \\frac{10}{4} = 2.5\n",
        "$$\n",
        "\n",
        "Paso 2: Calcular el error estándar\n",
        "\n",
        "Dado que $\\sigma = 2$ y el tamaño de la muestra $n = 4$:\n",
        "\n",
        "$$\n",
        "\\text{Error estándar} = \\frac{\\sigma}{\\sqrt{n}} = \\frac{2}{\\sqrt{4}} = \\frac{2}{2} = 1\n",
        "$$\n",
        "\n",
        "Paso 3: Calcular el intervalo de confianza\n",
        "\n",
        "El intervalo de confianza al $90\\%$ se calcula como:\n",
        "\n",
        "$$\n",
        "\\bar{x} \\pm Z_{\\alpha/2} \\cdot \\text{Error estándar} = 2.5 \\pm 1.645 \\times 1\n",
        "$$\n",
        "\n",
        "$$\n",
        "2.5 \\pm 1.645\n",
        "$$\n",
        "\n",
        "De este modo, el intervalo de confianza al $90\\%$ para $\\mu$ es:\n",
        "\n",
        "$$\n",
        "(0.855, 4.145)\n",
        "$$\n"
      ],
      "metadata": {
        "id": "oIXXhfXJwvvJ"
      }
    },
    {
      "cell_type": "code",
      "source": [
        "# Datos\n",
        "data = [1, 2, 3, 4]\n",
        "n = len(data)\n",
        "mean_x = np.mean(data)\n",
        "sigma = 2\n",
        "\n",
        "# Nivel de confianza\n",
        "z = norm.ppf(0.95)  # Valor crítico para 90%\n",
        "\n",
        "# Error estándar\n",
        "se = sigma / np.sqrt(n)\n",
        "\n",
        "# Intervalo de confianza\n",
        "margin_of_error = z * se\n",
        "ci_lower = mean_x - margin_of_error\n",
        "ci_upper = mean_x + margin_of_error\n",
        "\n",
        "print(f\"El intervalo de confianza al 90% para μ con σ = 2 es: ({ci_lower}, {ci_upper})\")"
      ],
      "metadata": {
        "colab": {
          "base_uri": "https://localhost:8080/"
        },
        "id": "6e1INzAdcPqr",
        "outputId": "9447d8ba-05df-4c17-9f7c-49784cde3e40"
      },
      "execution_count": 5,
      "outputs": [
        {
          "output_type": "stream",
          "name": "stdout",
          "text": [
            "El intervalo de confianza al 90% para μ con σ = 2 es: (0.8551463730485278, 4.144853626951472)\n"
          ]
        }
      ]
    },
    {
      "cell_type": "markdown",
      "source": [
        "  2. Encuentra un intervalo de confianza al nivel de $90\\%$ para $\\mu$.\n"
      ],
      "metadata": {
        "id": "a7n4tJe9cQVu"
      }
    },
    {
      "cell_type": "markdown",
      "source": [
        "Dado que $\\sigma$ es desconocida, utilizaremos la distribución $t$ de Student para calcular el intervalo de confianza.\n",
        "\n",
        "Para un nivel de confianza del $90\\%$ y una muestra de tamaño $n = 4$, los grados de libertad son $n - 1 = 3$. El valor crítico para $t_{0.05, 3}$ es aproximadamente $2.353$.\n",
        "\n",
        "Paso 1: Sabemos que la media muestral es:\n",
        "\n",
        "$$\n",
        "\\bar{x} = \\frac{1 + 2 + 3 + 4}{4} = \\frac{10}{4} = 2.5\n",
        "$$\n",
        "\n",
        "Paso 2: Calcular la desviación estándar muestral\n",
        "\n",
        "Primero, calculamos la varianza muestral:\n",
        "\n",
        "$$\n",
        "s^2 = \\frac{\\sum (x_i - \\bar{x})^2}{n - 1} = \\frac{(1 - 2.5)^2 + (2 - 2.5)^2 + (3 - 2.5)^2 + (4 - 2.5)^2}{4 - 1}\n",
        "$$\n",
        "\n",
        "$$\n",
        "s^2 = \\frac{(2.25) + (0.25) + (0.25) + (2.25)}{3} = \\frac{5}{3} \\approx 1.667\n",
        "$$\n",
        "\n",
        "La desviación estándar muestral es:\n",
        "\n",
        "$$\n",
        "s = \\sqrt{1.667} \\approx 1.291\n",
        "$$\n",
        "\n",
        "Paso 3: Calcular el error estándar\n",
        "\n",
        "$$\n",
        "\\text{Error estándar} = \\frac{s}{\\sqrt{n}} = \\frac{1.291}{\\sqrt{4}} = \\frac{1.291}{2} \\approx 0.646\n",
        "$$\n",
        "\n",
        "Paso 4: Calcular el intervalo de confianza\n",
        "\n",
        "El intervalo de confianza al $90\\%$ se calcula como:\n",
        "\n",
        "$$\n",
        "\\bar{x} \\pm t_{\\alpha/2, n-1} \\cdot \\text{Error estándar} = 2.5 \\pm 2.353 \\times 0.646\n",
        "$$\n",
        "\n",
        "$$\n",
        "2.5 \\pm 1.519\n",
        "$$\n",
        "\n",
        "Paso 5: Calcular los límites del intervalo\n",
        "\n",
        "- Límite inferior: $2.5 - 1.519 = 0.981$\n",
        "\n",
        "- Límite superior: $\n",
        "2.5 + 1.519 = 4.019\n",
        "$\n",
        "\n",
        "Así, el intervalo de confianza al $90\\%$ para $\\mu$ es:\n",
        "\n",
        "$$\n",
        "(0.981, 4.019)\n",
        "$$\n"
      ],
      "metadata": {
        "id": "Egas_ZBi3lY2"
      }
    },
    {
      "cell_type": "code",
      "source": [
        "import numpy as np\n",
        "from scipy.stats import t\n",
        "\n",
        "# Datos\n",
        "data = [1, 2, 3, 4]\n",
        "\n",
        "# Tamaño de la muestra\n",
        "n = len(data)\n",
        "\n",
        "# Media muestral\n",
        "mean_x = np.mean(data)\n",
        "\n",
        "# Desviación estándar muestral\n",
        "s = np.std(data, ddof=1)  # ddof=1 para obtener la desviación estándar muestral\n",
        "\n",
        "# Nivel de confianza al 90%\n",
        "confidence_level = 0.90\n",
        "alpha = 1 - confidence_level\n",
        "\n",
        "# Valor crítico de t para un intervalo de confianza al 90% con 3 grados de libertad\n",
        "t_value = t.ppf(1 - alpha / 2, df=n-1)  # Aquí usamos 1 - alpha / 2 para el valor crítico de dos colas\n",
        "\n",
        "# Error estándar\n",
        "se = s / np.sqrt(n)\n",
        "\n",
        "# Intervalo de confianza\n",
        "margin_of_error = t_value * se\n",
        "ci_lower = mean_x - margin_of_error\n",
        "ci_upper = mean_x + margin_of_error\n",
        "\n",
        "print(f\"El intervalo de confianza al 90% para μ es: ({ci_lower}, {ci_upper})\")"
      ],
      "metadata": {
        "colab": {
          "base_uri": "https://localhost:8080/"
        },
        "id": "8fxWT_830XXp",
        "outputId": "15015064-2dc2-4114-c4d3-da5da6429b72"
      },
      "execution_count": 6,
      "outputs": [
        {
          "output_type": "stream",
          "name": "stdout",
          "text": [
            "El intervalo de confianza al 90% para μ es: (0.980910434906507, 4.019089565093493)\n"
          ]
        }
      ]
    },
    {
      "cell_type": "markdown",
      "source": [
        "  3. Encuentra un intervalo de confianza al nivel de $90\\%$ para $\\sigma^2$."
      ],
      "metadata": {
        "id": "f8HqtgJZcTEs"
      }
    },
    {
      "cell_type": "markdown",
      "source": [
        "Para calcular el intervalo de confianza al $90\\%$ para la varianza $\\sigma^2$, utilizamos la distribución chi-cuadrada ($\\chi^2$). El intervalo de confianza se calcula con la fórmula:\n",
        "\n",
        "$$\n",
        "\\left( \\frac{(n-1)s^2}{\\chi^2_{\\alpha/2, n-1}}, \\frac{(n-1)s^2}{\\chi^2_{1-\\alpha/2, n-1}} \\right)\n",
        "$$\n",
        "\n",
        "Paso 1: Calcular la varianza muestral\n",
        "\n",
        "Ya sabemos que la varianza muestral es:\n",
        "\n",
        "$$\n",
        "s^2 = \\frac{\\sum (x_i - \\bar{x})^2}{n - 1} = \\frac{(1 - 2.5)^2 + (2 - 2.5)^2 + (3 - 2.5)^2 + (4 - 2.5)^2}{3} = \\frac{5}{3}\n",
        "$$\n",
        "\n",
        "Paso 2: Obtener los valores críticos de $\\chi^2$\n",
        "\n",
        "- Tamaño de la muestra: $n = 4$, por lo tanto, los grados de libertad son $n - 1 = 3$.\n",
        "- Para un nivel de confianza del $90\\%$, $\\alpha = 0.10$, entonces:\n",
        "  - $\\chi^2_{\\alpha/2, 3} = \\chi^2_{0.05, 3} \\approx 7.81473$\n",
        "  - $\\chi^2_{1-\\alpha/2, 3} = \\chi^2_{0.95, 3} \\approx 0.35185$\n",
        "\n",
        "Paso 3: Calcular el intervalo de confianza para $\\sigma^2$\n",
        "\n",
        "El intervalo de confianza es:\n",
        "\n",
        "$$\n",
        "\\left( \\frac{(n-1)s^2}{\\chi^2_{\\alpha/2, n-1}}, \\frac{(n-1)s^2}{\\chi^2_{1-\\alpha/2, n-1}} \\right) = \\left( \\frac{5}{7.81473}, \\frac{5}{0.35185} \\right)\n",
        "\\approx (0.640, 14.211)\n",
        "$$\n",
        "\n",
        "Por tanto, el intervalo de confianza al $90\\%$ para $\\sigma^2$ es:\n",
        "\n",
        "$$\n",
        "(0.640, 14.211)\n",
        "$$\n"
      ],
      "metadata": {
        "id": "L16FfibQ5XoQ"
      }
    },
    {
      "cell_type": "code",
      "source": [
        "from scipy.stats import chi2\n",
        "\n",
        "# Calcular la varianza muestral\n",
        "s_squared = s**2\n",
        "\n",
        "# Valores críticos para chi-cuadrada\n",
        "chi2_lower = chi2.ppf(0.05, df=n-1)\n",
        "chi2_upper = chi2.ppf(0.95, df=n-1)\n",
        "\n",
        "# Intervalo de confianza para sigma^2\n",
        "ci_lower = (n - 1) * s_squared / chi2_upper\n",
        "ci_upper = (n - 1) * s_squared / chi2_lower\n",
        "\n",
        "print(f\"El intervalo de confianza al 90% para σ² es: ({ci_lower}, {ci_upper})\")"
      ],
      "metadata": {
        "colab": {
          "base_uri": "https://localhost:8080/"
        },
        "id": "Ohmq-D1lfbQR",
        "outputId": "f4daf8e1-5bb2-467a-b361-29fa6d615828"
      },
      "execution_count": 7,
      "outputs": [
        {
          "output_type": "stream",
          "name": "stdout",
          "text": [
            "El intervalo de confianza al 90% para σ² es: (0.6398175421974498, 14.210749829597594)\n"
          ]
        }
      ]
    }
  ]
}