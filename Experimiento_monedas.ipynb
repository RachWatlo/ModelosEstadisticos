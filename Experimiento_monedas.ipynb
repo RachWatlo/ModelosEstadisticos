{
  "nbformat": 4,
  "nbformat_minor": 0,
  "metadata": {
    "colab": {
      "provenance": [],
      "include_colab_link": true
    },
    "kernelspec": {
      "name": "python3",
      "display_name": "Python 3"
    },
    "language_info": {
      "name": "python"
    }
  },
  "cells": [
    {
      "cell_type": "markdown",
      "metadata": {
        "id": "view-in-github",
        "colab_type": "text"
      },
      "source": [
        "<a href=\"https://colab.research.google.com/github/RachWatlo/ModelosEstadisticos/blob/main/Experimiento_monedas.ipynb\" target=\"_parent\"><img src=\"https://colab.research.google.com/assets/colab-badge.svg\" alt=\"Open In Colab\"/></a>"
      ]
    },
    {
      "cell_type": "markdown",
      "source": [
        "#Algunos conceptos de Python\n",
        "* Es un lenguaje orientado a objetos\n",
        "* Objetos: enteros (int), decimales (float), str, listas (list), vectores (arrays), conjuntos (set), diccionarios, Dataframes, etc.\n"
      ],
      "metadata": {
        "id": "HR6C86C59sPC"
      }
    },
    {
      "cell_type": "markdown",
      "source": [
        "##Integrantes del equipo 3:\n",
        "* Oscar Jair Amaro Santiago.\n",
        "* Einar Romero Toledo.\n",
        "* María Fernanda Barbababosa García.\n",
        "* Raquel Ortiz Moran.\n",
        "* Guadalupe López Ascencio\n",
        "\n"
      ],
      "metadata": {
        "id": "V95wM6T2uQWi"
      }
    },
    {
      "cell_type": "code",
      "source": [
        "# Este es un comentario\n",
        "print(\"Hola Mundo\")"
      ],
      "metadata": {
        "colab": {
          "base_uri": "https://localhost:8080/"
        },
        "id": "LEGSINo--LME",
        "outputId": "d90142b9-f466-4efa-a820-63fc99980392"
      },
      "execution_count": null,
      "outputs": [
        {
          "output_type": "stream",
          "name": "stdout",
          "text": [
            "Hola Mundo\n"
          ]
        }
      ]
    },
    {
      "cell_type": "code",
      "source": [
        "# Operaciones basicas\n",
        "print(4+5) #suma\n",
        "print(4/5) #division\n",
        "print (4*5) #multiplicacion\n",
        "print (2**3) #potencia\n",
        "print (4//5) #division al piso\n",
        "print(4-5*1) #prueba de que la jerarquia de operaciones no existe"
      ],
      "metadata": {
        "colab": {
          "base_uri": "https://localhost:8080/"
        },
        "id": "DFrsPGQJ-aw9",
        "outputId": "6f196ba8-8c5e-42db-f31a-8e8f4e69c7c3"
      },
      "execution_count": null,
      "outputs": [
        {
          "output_type": "stream",
          "name": "stdout",
          "text": [
            "9\n",
            "0.8\n",
            "20\n",
            "8\n",
            "0\n",
            "-1\n"
          ]
        }
      ]
    },
    {
      "cell_type": "markdown",
      "source": [
        "Si $x \\in \\mathbb{R}$, la funcion piso se define como:\n",
        "$$\\lfloor x \\rfloor = \\max \\{m\\in \\mathbb{Z} \\mid m\\leq x \\}$$"
      ],
      "metadata": {
        "id": "Rgu0eiXn_rLp"
      }
    },
    {
      "cell_type": "code",
      "source": [
        "9//4"
      ],
      "metadata": {
        "colab": {
          "base_uri": "https://localhost:8080/"
        },
        "id": "L8EkvvueAw4M",
        "outputId": "1bfbe0bc-3055-47bb-dfea-056b7184f4b4"
      },
      "execution_count": null,
      "outputs": [
        {
          "output_type": "execute_result",
          "data": {
            "text/plain": [
              "2"
            ]
          },
          "metadata": {},
          "execution_count": 7
        }
      ]
    },
    {
      "cell_type": "markdown",
      "source": [
        "Operacion modular: Sean $a$ y $b$ numeros reales.\n",
        "\n",
        "El residuo de dividir $a$ entre $b$ se llama operacion modular, en Python se escribe a%b"
      ],
      "metadata": {
        "id": "ziR6WYGCA0PQ"
      }
    },
    {
      "cell_type": "code",
      "source": [
        "5%2"
      ],
      "metadata": {
        "colab": {
          "base_uri": "https://localhost:8080/"
        },
        "id": "i2IfB9ioBIpV",
        "outputId": "5fa64dd9-f3bc-4236-9e38-ffb0526bd48c"
      },
      "execution_count": null,
      "outputs": [
        {
          "output_type": "execute_result",
          "data": {
            "text/plain": [
              "1"
            ]
          },
          "metadata": {},
          "execution_count": 8
        }
      ]
    },
    {
      "cell_type": "markdown",
      "source": [
        "Los objetos tienen atributos (miembros):\n",
        "* Datos: informacion util para el objeto.\n",
        "* Metodos (funciones): operaciones sobre el propio objeto.\n",
        "\n",
        "Los atributos son accesibles con la objeto.atributo\n",
        "\n",
        "Existen dos modos en que un objeto es usado en una funcion:"
      ],
      "metadata": {
        "id": "3HhGAjusDFUh"
      }
    },
    {
      "cell_type": "code",
      "source": [
        "# Pensandolo como un argumento explicito:\n",
        "a=-3\n",
        "abs(a)"
      ],
      "metadata": {
        "colab": {
          "base_uri": "https://localhost:8080/"
        },
        "id": "vJOSS0ueERW1",
        "outputId": "358fbadd-58c0-4294-e0b3-3decf66054fb"
      },
      "execution_count": null,
      "outputs": [
        {
          "output_type": "execute_result",
          "data": {
            "text/plain": [
              "3"
            ]
          },
          "metadata": {},
          "execution_count": 9
        }
      ]
    },
    {
      "cell_type": "code",
      "source": [
        "# Llamandolo a uno de sus metodos:\n",
        "a= 'hola'\n",
        "a.upper()"
      ],
      "metadata": {
        "colab": {
          "base_uri": "https://localhost:8080/",
          "height": 35
        },
        "id": "ixGNhZIJElIO",
        "outputId": "8f74d43e-6259-4f4f-a001-9ceb0312a9cd"
      },
      "execution_count": null,
      "outputs": [
        {
          "output_type": "execute_result",
          "data": {
            "text/plain": [
              "'HOLA'"
            ],
            "application/vnd.google.colaboratory.intrinsic+json": {
              "type": "string"
            }
          },
          "metadata": {},
          "execution_count": 12
        }
      ]
    },
    {
      "cell_type": "markdown",
      "source": [
        "Otro ejemplo de objeto : $1+3i \\in \\mathbb{C}$, es decir, es un numero complejo"
      ],
      "metadata": {
        "id": "mdXcwXw6GChc"
      }
    },
    {
      "cell_type": "code",
      "source": [
        "a = 1 + 3j #la parte imaginaria en pyhton se asigna con j\n",
        "im = a.imag #atributo dato (parte imaginaria)\n",
        "re = a.real\n",
        "conj = a.conjugate() #atributo metodo (conjugado de un numero imaginario)\n",
        "print(re)\n",
        "print (im)\n",
        "print (conj)"
      ],
      "metadata": {
        "colab": {
          "base_uri": "https://localhost:8080/"
        },
        "id": "wvVgI44LGSKg",
        "outputId": "1135c4e5-f46d-4c74-9a4e-e051c75c5c02"
      },
      "execution_count": null,
      "outputs": [
        {
          "output_type": "stream",
          "name": "stdout",
          "text": [
            "1.0\n",
            "3.0\n",
            "(1-3j)\n"
          ]
        }
      ]
    },
    {
      "cell_type": "code",
      "source": [
        "#directorio de a\n",
        "dir(a)"
      ],
      "metadata": {
        "colab": {
          "base_uri": "https://localhost:8080/"
        },
        "id": "mWBIlNnbIG8k",
        "outputId": "84a29bdf-a682-4982-9a37-33198e9da3c0"
      },
      "execution_count": null,
      "outputs": [
        {
          "output_type": "execute_result",
          "data": {
            "text/plain": [
              "['__abs__',\n",
              " '__add__',\n",
              " '__bool__',\n",
              " '__class__',\n",
              " '__delattr__',\n",
              " '__dir__',\n",
              " '__doc__',\n",
              " '__eq__',\n",
              " '__format__',\n",
              " '__ge__',\n",
              " '__getattribute__',\n",
              " '__getnewargs__',\n",
              " '__gt__',\n",
              " '__hash__',\n",
              " '__init__',\n",
              " '__init_subclass__',\n",
              " '__le__',\n",
              " '__lt__',\n",
              " '__mul__',\n",
              " '__ne__',\n",
              " '__neg__',\n",
              " '__new__',\n",
              " '__pos__',\n",
              " '__pow__',\n",
              " '__radd__',\n",
              " '__reduce__',\n",
              " '__reduce_ex__',\n",
              " '__repr__',\n",
              " '__rmul__',\n",
              " '__rpow__',\n",
              " '__rsub__',\n",
              " '__rtruediv__',\n",
              " '__setattr__',\n",
              " '__sizeof__',\n",
              " '__str__',\n",
              " '__sub__',\n",
              " '__subclasshook__',\n",
              " '__truediv__',\n",
              " 'conjugate',\n",
              " 'imag',\n",
              " 'real']"
            ]
          },
          "metadata": {},
          "execution_count": 22
        }
      ]
    },
    {
      "cell_type": "code",
      "source": [
        "# Tipo de dato de la variable definida anteriormente\n",
        "a?"
      ],
      "metadata": {
        "id": "y0XRoXOqIsWP"
      },
      "execution_count": null,
      "outputs": []
    },
    {
      "cell_type": "markdown",
      "source": [
        "# Tipos y variables\n",
        "\n",
        "Todo objeto tiene un tipo asociado."
      ],
      "metadata": {
        "id": "auEWPx_xSjuJ"
      }
    },
    {
      "cell_type": "code",
      "source": [
        "type(3)"
      ],
      "metadata": {
        "colab": {
          "base_uri": "https://localhost:8080/"
        },
        "id": "J3UxrDJWSr3H",
        "outputId": "ff49856f-e02a-4409-9e8d-3ca82fce33c0"
      },
      "execution_count": null,
      "outputs": [
        {
          "output_type": "execute_result",
          "data": {
            "text/plain": [
              "int"
            ]
          },
          "metadata": {},
          "execution_count": 26
        }
      ]
    },
    {
      "cell_type": "code",
      "source": [
        "type('3')"
      ],
      "metadata": {
        "colab": {
          "base_uri": "https://localhost:8080/"
        },
        "id": "f0aVgwXbSxGy",
        "outputId": "4c54124e-4fff-4527-a3ad-24695fe2db37"
      },
      "execution_count": null,
      "outputs": [
        {
          "output_type": "execute_result",
          "data": {
            "text/plain": [
              "str"
            ]
          },
          "metadata": {},
          "execution_count": 27
        }
      ]
    },
    {
      "cell_type": "code",
      "source": [
        "#3 mas la cadena de caracteres convertidas en tipo entero\n",
        "3 + int('3')"
      ],
      "metadata": {
        "colab": {
          "base_uri": "https://localhost:8080/"
        },
        "id": "wK-cE52LS00j",
        "outputId": "770d95ee-7e4a-4402-8600-8fb2cf652e59"
      },
      "execution_count": null,
      "outputs": [
        {
          "output_type": "execute_result",
          "data": {
            "text/plain": [
              "6"
            ]
          },
          "metadata": {},
          "execution_count": 28
        }
      ]
    },
    {
      "cell_type": "code",
      "source": [
        "str(3) + '3'"
      ],
      "metadata": {
        "colab": {
          "base_uri": "https://localhost:8080/",
          "height": 35
        },
        "id": "fLccBNeLS_dQ",
        "outputId": "d0adef53-8230-45b2-df36-12dad857c6a2"
      },
      "execution_count": null,
      "outputs": [
        {
          "output_type": "execute_result",
          "data": {
            "text/plain": [
              "'33'"
            ],
            "application/vnd.google.colaboratory.intrinsic+json": {
              "type": "string"
            }
          },
          "metadata": {},
          "execution_count": 29
        }
      ]
    },
    {
      "cell_type": "markdown",
      "source": [
        "## Listas\n",
        "\n",
        "Una lista es una manera de organizar objetos"
      ],
      "metadata": {
        "id": "gxdbWGtpTDm7"
      }
    },
    {
      "cell_type": "code",
      "source": [
        "# Variable, los corchetes hacen alusion a un conjunto\n",
        "lista_1 = [1,3.5,\"Hola\", False, {\"A\", \"S\"}]\n",
        "lista_1"
      ],
      "metadata": {
        "colab": {
          "base_uri": "https://localhost:8080/"
        },
        "id": "-Rm3X0IPTJin",
        "outputId": "5b8c76bc-bc2e-4c34-af1d-ff3706cbd918"
      },
      "execution_count": null,
      "outputs": [
        {
          "output_type": "execute_result",
          "data": {
            "text/plain": [
              "[1, 3.5, 'Hola', False, {'A', 'S'}]"
            ]
          },
          "metadata": {},
          "execution_count": 30
        }
      ]
    },
    {
      "cell_type": "code",
      "source": [
        "# Nos indica el tipo de objeto que se tiene\n",
        "type(lista_1)"
      ],
      "metadata": {
        "colab": {
          "base_uri": "https://localhost:8080/"
        },
        "id": "8SxwsfRFTtSH",
        "outputId": "9a8d284d-00d3-426c-95d5-c178c742774b"
      },
      "execution_count": null,
      "outputs": [
        {
          "output_type": "execute_result",
          "data": {
            "text/plain": [
              "list"
            ]
          },
          "metadata": {},
          "execution_count": 31
        }
      ]
    },
    {
      "cell_type": "markdown",
      "source": [
        "Si tengo una lista\n",
        "\n",
        "$$L_{1}=[e_{1},e_{2}, \\dots , e_{n}]$$\n",
        "Si quiero ingresar al elemento $e_{i}$\n",
        "$$L[i-1]$$"
      ],
      "metadata": {
        "id": "d5y8nAf_T6U9"
      }
    },
    {
      "cell_type": "code",
      "source": [
        "#Mandamos a llamar a un elemento de la lista, python empieza a contar desde el cero\n",
        "lista_1[2]"
      ],
      "metadata": {
        "colab": {
          "base_uri": "https://localhost:8080/",
          "height": 35
        },
        "id": "pKgYQHLnUZm6",
        "outputId": "2b4057f2-85c0-4c73-8f45-4d17bd2ca605"
      },
      "execution_count": null,
      "outputs": [
        {
          "output_type": "execute_result",
          "data": {
            "text/plain": [
              "'Hola'"
            ],
            "application/vnd.google.colaboratory.intrinsic+json": {
              "type": "string"
            }
          },
          "metadata": {},
          "execution_count": 32
        }
      ]
    },
    {
      "cell_type": "code",
      "source": [
        "lista_1[4]\n",
        "type(lista_1[4])"
      ],
      "metadata": {
        "colab": {
          "base_uri": "https://localhost:8080/"
        },
        "id": "0x95tCdXUtgX",
        "outputId": "afb1d86e-f709-48fe-fa54-bb95068ffdc6"
      },
      "execution_count": null,
      "outputs": [
        {
          "output_type": "execute_result",
          "data": {
            "text/plain": [
              "set"
            ]
          },
          "metadata": {},
          "execution_count": 34
        }
      ]
    },
    {
      "cell_type": "code",
      "source": [
        "# Ya no tenemos el elemento en la lista\n",
        "lista_1[5]"
      ],
      "metadata": {
        "colab": {
          "base_uri": "https://localhost:8080/",
          "height": 141
        },
        "id": "b3zePUnLU6ub",
        "outputId": "bdcb216b-6505-4371-a85f-d8c6633a6ce0"
      },
      "execution_count": null,
      "outputs": [
        {
          "output_type": "error",
          "ename": "IndexError",
          "evalue": "list index out of range",
          "traceback": [
            "\u001b[0;31m---------------------------------------------------------------------------\u001b[0m",
            "\u001b[0;31mIndexError\u001b[0m                                Traceback (most recent call last)",
            "\u001b[0;32m<ipython-input-35-f2e8ba98b710>\u001b[0m in \u001b[0;36m<cell line: 1>\u001b[0;34m()\u001b[0m\n\u001b[0;32m----> 1\u001b[0;31m \u001b[0mlista_1\u001b[0m\u001b[0;34m[\u001b[0m\u001b[0;36m5\u001b[0m\u001b[0;34m]\u001b[0m\u001b[0;34m\u001b[0m\u001b[0;34m\u001b[0m\u001b[0m\n\u001b[0m",
            "\u001b[0;31mIndexError\u001b[0m: list index out of range"
          ]
        }
      ]
    },
    {
      "cell_type": "markdown",
      "source": [
        "# Generador de indices (etiquetas en python), este generador se llama `range(n)`\n"
      ],
      "metadata": {
        "id": "I845f1ZRVCvi"
      }
    },
    {
      "cell_type": "code",
      "source": [
        "range(10)"
      ],
      "metadata": {
        "colab": {
          "base_uri": "https://localhost:8080/"
        },
        "id": "x0oWUzLIVcZL",
        "outputId": "bc1ceb17-575e-49c5-e80f-54345d208a53"
      },
      "execution_count": null,
      "outputs": [
        {
          "output_type": "execute_result",
          "data": {
            "text/plain": [
              "range(0, 10)"
            ]
          },
          "metadata": {},
          "execution_count": 36
        }
      ]
    },
    {
      "cell_type": "code",
      "source": [
        "for i in range (10):\n",
        "  print(i)"
      ],
      "metadata": {
        "colab": {
          "base_uri": "https://localhost:8080/"
        },
        "id": "qsdpkTnWVlp6",
        "outputId": "1ca74e5b-d704-4774-c701-ef4d58bf233f"
      },
      "execution_count": null,
      "outputs": [
        {
          "output_type": "stream",
          "name": "stdout",
          "text": [
            "0\n",
            "1\n",
            "2\n",
            "3\n",
            "4\n",
            "5\n",
            "6\n",
            "7\n",
            "8\n",
            "9\n"
          ]
        }
      ]
    },
    {
      "cell_type": "code",
      "source": [
        "lista_2 = [i for i in range (1,6)]\n",
        "lista_2"
      ],
      "metadata": {
        "colab": {
          "base_uri": "https://localhost:8080/"
        },
        "id": "zyH5O8EMVz9Y",
        "outputId": "32c294a4-fd04-4c2d-fd0b-a55ce3b9d19b"
      },
      "execution_count": null,
      "outputs": [
        {
          "output_type": "execute_result",
          "data": {
            "text/plain": [
              "[1, 2, 3, 4, 5]"
            ]
          },
          "metadata": {},
          "execution_count": 38
        }
      ]
    },
    {
      "cell_type": "markdown",
      "source": [
        "## Modelo de probabilidad Laplaciano o Modelo Clasico:\n",
        "\n",
        "**Ejemplo** se lanza una moneda 3 veces, de manera independiente (es decir, el lanzamiento $i$-esimo no afecta al $i+1$.\n",
        "\n",
        "Tenemos que el espacio muestral de este experimento es:\n",
        "\n",
        "$$Ω = \\{A,S\\}\\times\\{A,S\\}\\times\\{A,S\\}=\\{A,S\\}^3$$\n",
        "\n",
        "donde $$\\# Ω = 2^3 = 8.$$\n",
        "\n",
        "Sea $E$ un evento, entonces la probabilidad de $E$ se calcula como sigue:\n",
        "$$\\mathbb {P} (E) = \\dfrac{\\#E}{\\#Ω}$$\n"
      ],
      "metadata": {
        "id": "GOBrfcD0WtVS"
      }
    },
    {
      "cell_type": "code",
      "source": [
        "# Para crear a Omega (espacio muestral), necesitamos una libreria\n",
        "\n",
        "import itertools #importamos el modulo\n",
        "from itertools import product\n",
        "\n",
        "Omega = set(product ({\"A\",\"S\"}, repeat = 3))\n",
        "Omega"
      ],
      "metadata": {
        "colab": {
          "base_uri": "https://localhost:8080/"
        },
        "id": "gtkBYscrWlke",
        "outputId": "0914fe81-cee3-43b7-c677-d5f6c7b32e36"
      },
      "execution_count": null,
      "outputs": [
        {
          "output_type": "execute_result",
          "data": {
            "text/plain": [
              "{('A', 'A', 'A'),\n",
              " ('A', 'A', 'S'),\n",
              " ('A', 'S', 'A'),\n",
              " ('A', 'S', 'S'),\n",
              " ('S', 'A', 'A'),\n",
              " ('S', 'A', 'S'),\n",
              " ('S', 'S', 'A'),\n",
              " ('S', 'S', 'S')}"
            ]
          },
          "metadata": {},
          "execution_count": 63
        }
      ]
    },
    {
      "cell_type": "code",
      "source": [
        "#Para saber cuantos elementos hay en Omega\n",
        "len(Omega)"
      ],
      "metadata": {
        "colab": {
          "base_uri": "https://localhost:8080/"
        },
        "id": "NXLjKxeKbF9N",
        "outputId": "700db5a2-fa1f-4508-dc61-ffd4b73e4465"
      },
      "execution_count": null,
      "outputs": [
        {
          "output_type": "execute_result",
          "data": {
            "text/plain": [
              "8"
            ]
          },
          "metadata": {},
          "execution_count": 64
        }
      ]
    },
    {
      "cell_type": "code",
      "source": [
        "T = (\"A\",\"A\",\"A\") #tupla (elementos del producto cartesiano)\n",
        "T[0]"
      ],
      "metadata": {
        "colab": {
          "base_uri": "https://localhost:8080/",
          "height": 35
        },
        "id": "ipkV1aEabyvL",
        "outputId": "4ccf26a9-3996-48af-cad5-16db3cb63ef8"
      },
      "execution_count": null,
      "outputs": [
        {
          "output_type": "execute_result",
          "data": {
            "text/plain": [
              "'A'"
            ],
            "application/vnd.google.colaboratory.intrinsic+json": {
              "type": "string"
            }
          },
          "metadata": {},
          "execution_count": 65
        }
      ]
    },
    {
      "cell_type": "markdown",
      "source": [
        "Consideremos los siguientes evento:\n",
        "1. A: Todos los resultados son aguila\n",
        "2. S: Todos los resultados son soles\n",
        "3. E: Por lo menos un resultado es sol"
      ],
      "metadata": {
        "id": "qzQ0k5qCcSG0"
      }
    },
    {
      "cell_type": "markdown",
      "source": [
        "Sea el evento $A_{i}$ donde obtenemos aguila en el $i$-esimo resultado. Asi tenemos\n",
        "\n",
        "$$A=A_{1} \\cap A_{2} \\cap A_{3}$$"
      ],
      "metadata": {
        "id": "h3rt3Rmmdfoi"
      }
    },
    {
      "cell_type": "markdown",
      "source": [
        "Vamos a crear a nuestro primer evento $A_{1}$, es decir, donde en la primera coordenada es aguila:"
      ],
      "metadata": {
        "id": "J01ng0yGeNZa"
      }
    },
    {
      "cell_type": "code",
      "source": [
        "A_1 = {om for om in Omega if om [0]==\"A\"} #La primer coordenada\n",
        "A_1"
      ],
      "metadata": {
        "colab": {
          "base_uri": "https://localhost:8080/"
        },
        "id": "zL2Pk1HMeo2M",
        "outputId": "4d4d17f1-270c-402c-e2dc-9cc8d38010bc"
      },
      "execution_count": null,
      "outputs": [
        {
          "output_type": "execute_result",
          "data": {
            "text/plain": [
              "{('A', 'A', 'A'), ('A', 'A', 'S'), ('A', 'S', 'A'), ('A', 'S', 'S')}"
            ]
          },
          "metadata": {},
          "execution_count": 69
        }
      ]
    },
    {
      "cell_type": "code",
      "source": [
        "A_2 = {om for om in Omega if om [1]==\"A\"} #La segunda coordenada\n",
        "A_2"
      ],
      "metadata": {
        "colab": {
          "base_uri": "https://localhost:8080/"
        },
        "id": "XRfLC73yhW1s",
        "outputId": "450d58b1-ccb2-488d-8a62-23a594690aa8"
      },
      "execution_count": null,
      "outputs": [
        {
          "output_type": "execute_result",
          "data": {
            "text/plain": [
              "{('A', 'A', 'A'), ('A', 'A', 'S'), ('S', 'A', 'A'), ('S', 'A', 'S')}"
            ]
          },
          "metadata": {},
          "execution_count": 71
        }
      ]
    },
    {
      "cell_type": "code",
      "source": [
        "A_3 = {om for om in Omega if om [2]==\"A\"} #La tercera coordenada\n",
        "A_3"
      ],
      "metadata": {
        "colab": {
          "base_uri": "https://localhost:8080/"
        },
        "id": "EkPQt-hZhnll",
        "outputId": "059d7aee-22bc-41a1-bf2c-46d50ddefb51"
      },
      "execution_count": null,
      "outputs": [
        {
          "output_type": "execute_result",
          "data": {
            "text/plain": [
              "{('A', 'A', 'A'), ('A', 'S', 'A'), ('S', 'A', 'A'), ('S', 'S', 'A')}"
            ]
          },
          "metadata": {},
          "execution_count": 74
        }
      ]
    },
    {
      "cell_type": "markdown",
      "source": [
        "Para intersectar los conjuntos usamos la funcion `intersection()`\n"
      ],
      "metadata": {
        "id": "1EejVEzWiVAK"
      }
    },
    {
      "cell_type": "code",
      "source": [
        "A = A_1.intersection(A_2.intersection(A_3))\n",
        "A"
      ],
      "metadata": {
        "colab": {
          "base_uri": "https://localhost:8080/"
        },
        "id": "Cm8jn8CIiRjV",
        "outputId": "32657723-7efd-4694-fe47-97ebb5d0a739"
      },
      "execution_count": null,
      "outputs": [
        {
          "output_type": "execute_result",
          "data": {
            "text/plain": [
              "{('A', 'A', 'A')}"
            ]
          },
          "metadata": {},
          "execution_count": 76
        }
      ]
    },
    {
      "cell_type": "markdown",
      "source": [
        "Vamos a calcular la probabilidad del evento A"
      ],
      "metadata": {
        "id": "fDbjfsdLjjto"
      }
    },
    {
      "cell_type": "code",
      "source": [
        "#P_A denota a la probabilidad del evento A\n",
        "P_A= len(A)/len(Omega)\n",
        "P_A"
      ],
      "metadata": {
        "colab": {
          "base_uri": "https://localhost:8080/"
        },
        "id": "jOkcGnAsjngQ",
        "outputId": "d8768ecb-5b1f-483c-f495-fc8af784dc99"
      },
      "execution_count": null,
      "outputs": [
        {
          "output_type": "execute_result",
          "data": {
            "text/plain": [
              "0.125"
            ]
          },
          "metadata": {},
          "execution_count": 79
        }
      ]
    },
    {
      "cell_type": "markdown",
      "source": [
        "En vez de decimal, podemos tener el numero expresado en fraccion, lo cual se hace como sigue:\n",
        "\n",
        "Vamos a crear una funcion que calcule la probabilidad de un evento dentro de un espacio muestral $\\Omega$\n"
      ],
      "metadata": {
        "id": "RMc71D-VkkMi"
      }
    },
    {
      "cell_type": "code",
      "source": [
        "from fractions import Fraction\n",
        "\n",
        "def P(E, Omega):\n",
        "  P = Fraction(len(E),len(Omega))\n",
        "  return P"
      ],
      "metadata": {
        "id": "-7yI9LPOkt42"
      },
      "execution_count": null,
      "outputs": []
    },
    {
      "cell_type": "code",
      "source": [
        "P(A,Omega)"
      ],
      "metadata": {
        "colab": {
          "base_uri": "https://localhost:8080/"
        },
        "id": "OGM1dZ8cmKNF",
        "outputId": "36fe20c3-43c1-446d-f424-e5a1e134707f"
      },
      "execution_count": null,
      "outputs": [
        {
          "output_type": "execute_result",
          "data": {
            "text/plain": [
              "Fraction(1, 8)"
            ]
          },
          "metadata": {},
          "execution_count": 91
        }
      ]
    },
    {
      "cell_type": "markdown",
      "source": [
        "##**Tarea**: Resolver el evento S y E"
      ],
      "metadata": {
        "id": "7UVvFR5ynd5O"
      }
    },
    {
      "cell_type": "markdown",
      "source": [
        "Sea el evento $S_{i}$ donde obtenemos sol en el $i$-esimo resultado. Asi tenemos\n",
        "\n",
        "$$S=S_{1} \\cap S_{2} \\cap S_{3}$$"
      ],
      "metadata": {
        "id": "mRAvWcJvoH8o"
      }
    },
    {
      "cell_type": "markdown",
      "source": [
        "Vamos a crear a nuestro primer evento $S_{1}$, es decir, donde en la primera coordenada es sol:"
      ],
      "metadata": {
        "id": "a6jbDPRRovRB"
      }
    },
    {
      "cell_type": "code",
      "source": [
        "S_1 = {om for om in Omega if om [0]==\"S\"} #La primer coordenada\n",
        "S_1"
      ],
      "metadata": {
        "colab": {
          "base_uri": "https://localhost:8080/"
        },
        "id": "ar3oKEEMnmMJ",
        "outputId": "5960c12f-8733-4fc2-bd8e-01e261db810b"
      },
      "execution_count": null,
      "outputs": [
        {
          "output_type": "execute_result",
          "data": {
            "text/plain": [
              "{('S', 'A', 'A'), ('S', 'A', 'S'), ('S', 'S', 'A'), ('S', 'S', 'S')}"
            ]
          },
          "metadata": {},
          "execution_count": 85
        }
      ]
    },
    {
      "cell_type": "code",
      "source": [
        "S_2 = {om for om in Omega if om [1]==\"S\"} #La primer coordenada\n",
        "S_2"
      ],
      "metadata": {
        "colab": {
          "base_uri": "https://localhost:8080/"
        },
        "id": "v3b6ZqFCo50q",
        "outputId": "76080a2d-a7fa-4372-f4c0-c8ca7bd92227"
      },
      "execution_count": null,
      "outputs": [
        {
          "output_type": "execute_result",
          "data": {
            "text/plain": [
              "{('A', 'S', 'A'), ('A', 'S', 'S'), ('S', 'S', 'A'), ('S', 'S', 'S')}"
            ]
          },
          "metadata": {},
          "execution_count": 86
        }
      ]
    },
    {
      "cell_type": "code",
      "source": [
        "S_3 = {om for om in Omega if om [2]==\"S\"} #La primer coordenada\n",
        "S_3"
      ],
      "metadata": {
        "colab": {
          "base_uri": "https://localhost:8080/"
        },
        "id": "fDpX-Pc8o8k3",
        "outputId": "b4a5c8d0-f87e-442e-8c91-31d66a31a2bf"
      },
      "execution_count": null,
      "outputs": [
        {
          "output_type": "execute_result",
          "data": {
            "text/plain": [
              "{('A', 'A', 'S'), ('A', 'S', 'S'), ('S', 'A', 'S'), ('S', 'S', 'S')}"
            ]
          },
          "metadata": {},
          "execution_count": 87
        }
      ]
    },
    {
      "cell_type": "markdown",
      "source": [
        "Para intersectar los conjuntos usamos la funcion `intersection()`\n"
      ],
      "metadata": {
        "id": "6gR05XqApD1t"
      }
    },
    {
      "cell_type": "code",
      "source": [
        "S = S_1.intersection(S_2.intersection(S_3))\n",
        "S"
      ],
      "metadata": {
        "colab": {
          "base_uri": "https://localhost:8080/"
        },
        "id": "5RPs_aRepFR4",
        "outputId": "eee8b36c-b63a-47c3-bf8a-7e8dca167ff5"
      },
      "execution_count": null,
      "outputs": [
        {
          "output_type": "execute_result",
          "data": {
            "text/plain": [
              "{('S', 'S', 'S')}"
            ]
          },
          "metadata": {},
          "execution_count": 88
        }
      ]
    },
    {
      "cell_type": "markdown",
      "source": [
        "Vamos a calcular la probabilidad del evento S"
      ],
      "metadata": {
        "id": "zD-VBz7mphF1"
      }
    },
    {
      "cell_type": "code",
      "source": [
        "#P_A denota a la probabilidad del evento A\n",
        "P_S= len(S)/len(Omega)\n",
        "P_S"
      ],
      "metadata": {
        "colab": {
          "base_uri": "https://localhost:8080/"
        },
        "id": "ko-FSdqBplJg",
        "outputId": "a4aa20b0-df40-48b0-e41a-dc853f8b070c"
      },
      "execution_count": null,
      "outputs": [
        {
          "output_type": "execute_result",
          "data": {
            "text/plain": [
              "0.125"
            ]
          },
          "metadata": {},
          "execution_count": 89
        }
      ]
    },
    {
      "cell_type": "markdown",
      "source": [
        "En vez de decimal, podemos tener el numero expresado en fraccion, lo cual se hace como sigue:\n",
        "\n",
        "Vamos a crear una funcion que calcule la probabilidad de un evento dentro de un espacio muestral $\\Omega$"
      ],
      "metadata": {
        "id": "S66ImO9_pvO2"
      }
    },
    {
      "cell_type": "code",
      "source": [
        "from fractions import Fraction\n",
        "\n",
        "def P(E, Omega):\n",
        "  P = Fraction(len(E),len(Omega))\n",
        "  return P"
      ],
      "metadata": {
        "id": "L-AlHIz_p1Pv"
      },
      "execution_count": null,
      "outputs": []
    },
    {
      "cell_type": "code",
      "source": [
        "P(S,Omega)"
      ],
      "metadata": {
        "colab": {
          "base_uri": "https://localhost:8080/"
        },
        "id": "Csw0LR30qCtx",
        "outputId": "be4a9852-1c69-4e50-ada6-00e5e03a1859"
      },
      "execution_count": null,
      "outputs": [
        {
          "output_type": "execute_result",
          "data": {
            "text/plain": [
              "Fraction(1, 8)"
            ]
          },
          "metadata": {},
          "execution_count": 96
        }
      ]
    },
    {
      "cell_type": "markdown",
      "source": [
        "Sabemos que la probabilidad de que al menos un evento sea sol esta dada por\n",
        "\n",
        "$$\\mathbb{P}(E)= 1 - \\mathbb{P}(A)$$\n",
        "\n",
        "donde:\n",
        "\n",
        "$$\\mathbb{P}(A)$$\n",
        "\n",
        "es la probabilidad de obtener 3 aguilas, ie, tomamos (el complemento) todos los posibles casos de nuestro espacio muestral donde pueda caer al menos un sol."
      ],
      "metadata": {
        "id": "yv1mWnj2qWh0"
      }
    },
    {
      "cell_type": "code",
      "source": [
        "P_E = 1 - P(A,Omega)\n",
        "P_E"
      ],
      "metadata": {
        "colab": {
          "base_uri": "https://localhost:8080/"
        },
        "id": "dbEnB0XirvfM",
        "outputId": "22c57798-cd40-47ee-8c90-d05c8c33b037"
      },
      "execution_count": null,
      "outputs": [
        {
          "output_type": "execute_result",
          "data": {
            "text/plain": [
              "Fraction(7, 8)"
            ]
          },
          "metadata": {},
          "execution_count": 98
        }
      ]
    }
  ]
}