{
  "nbformat": 4,
  "nbformat_minor": 0,
  "metadata": {
    "colab": {
      "provenance": [],
      "include_colab_link": true
    },
    "kernelspec": {
      "name": "python3",
      "display_name": "Python 3"
    },
    "language_info": {
      "name": "python"
    }
  },
  "cells": [
    {
      "cell_type": "markdown",
      "metadata": {
        "id": "view-in-github",
        "colab_type": "text"
      },
      "source": [
        "<a href=\"https://colab.research.google.com/github/RachWatlo/ModelosEstadisticos/blob/main/Experimento_dados.ipynb\" target=\"_parent\"><img src=\"https://colab.research.google.com/assets/colab-badge.svg\" alt=\"Open In Colab\"/></a>"
      ]
    },
    {
      "cell_type": "markdown",
      "source": [
        "# **Leyes de las variables aleatorias**\n",
        "\n",
        "Vamos a modelar con un experimento aleatorio, la ley (función de densidad) de una v.a. uniforme discreta."
      ],
      "metadata": {
        "id": "AjkHzAp74xOQ"
      }
    },
    {
      "cell_type": "markdown",
      "source": [
        "## **Diccionarios**\n",
        "\n",
        "Un diccionario es un objeto que se crea a partir de algo que se llama \"llave\" y nos arroja valores:\n",
        "\n",
        "\\{ key: values \\}\n",
        "\n",
        "Es como trabajar una tabla en Excel, donde de preferencia debería de haber la misma cantidad de valores en cada lista que agregues\n"
      ],
      "metadata": {
        "id": "WST2awCO5HSL"
      }
    },
    {
      "cell_type": "code",
      "execution_count": 6,
      "metadata": {
        "colab": {
          "base_uri": "https://localhost:8080/"
        },
        "id": "CE0QTxgI0Gvl",
        "outputId": "b0a71f42-9766-49b4-f8bb-7a6e4a2ad3f2"
      },
      "outputs": [
        {
          "output_type": "execute_result",
          "data": {
            "text/plain": [
              "{'Raquel': ['Masha', 'Snow'], 'Nivel': [7, 10], 'Calificaciones': [6.2, 8.3]}"
            ]
          },
          "metadata": {},
          "execution_count": 6
        }
      ],
      "source": [
        "# Se crea el diccionario d\n",
        "\n",
        "d={\"Raquel\":[\"Masha\",\"Snow\"],\n",
        "      \"Nivel\":[7,10],\n",
        "      \"Calificaciones\":[6.2,8.3]}\n",
        "d"
      ]
    },
    {
      "cell_type": "code",
      "source": [
        "type(d) # se muestra que d es un diccionario"
      ],
      "metadata": {
        "colab": {
          "base_uri": "https://localhost:8080/"
        },
        "id": "dEVwJOuu7xR-",
        "outputId": "31560cf2-d38b-4544-eb4a-7a5b61a23050"
      },
      "execution_count": 7,
      "outputs": [
        {
          "output_type": "execute_result",
          "data": {
            "text/plain": [
              "dict"
            ]
          },
          "metadata": {},
          "execution_count": 7
        }
      ]
    },
    {
      "cell_type": "code",
      "source": [
        "d.keys() # las llaves del diccionario d"
      ],
      "metadata": {
        "colab": {
          "base_uri": "https://localhost:8080/"
        },
        "id": "1CxBrQMv71be",
        "outputId": "f19008c8-51a6-4577-d3ae-057c0dfc50b6"
      },
      "execution_count": 8,
      "outputs": [
        {
          "output_type": "execute_result",
          "data": {
            "text/plain": [
              "dict_keys(['Raquel', 'Nivel', 'Calificaciones'])"
            ]
          },
          "metadata": {},
          "execution_count": 8
        }
      ]
    },
    {
      "cell_type": "code",
      "source": [
        "d.values() # valores correspondientes de cada llave"
      ],
      "metadata": {
        "colab": {
          "base_uri": "https://localhost:8080/"
        },
        "id": "9P-Vgn8r8OtR",
        "outputId": "9bf971d7-f423-42e2-c66a-54cc3f59b02c"
      },
      "execution_count": 9,
      "outputs": [
        {
          "output_type": "execute_result",
          "data": {
            "text/plain": [
              "dict_values([['Masha', 'Snow'], [7, 10], [6.2, 8.3]])"
            ]
          },
          "metadata": {},
          "execution_count": 9
        }
      ]
    },
    {
      "cell_type": "code",
      "source": [
        "# Se está intentando acceder a un elemento específico del diccionario usando índices\n",
        "# (como si fuera una lista), pero este tipo de objeto no permite indexación directa\n",
        "d.values()[0]"
      ],
      "metadata": {
        "colab": {
          "base_uri": "https://localhost:8080/",
          "height": 166
        },
        "id": "JXRORBXz8yiz",
        "outputId": "0ec74750-fc97-4601-d1f6-7d3f9accda4f"
      },
      "execution_count": 10,
      "outputs": [
        {
          "output_type": "error",
          "ename": "TypeError",
          "evalue": "'dict_values' object is not subscriptable",
          "traceback": [
            "\u001b[0;31m---------------------------------------------------------------------------\u001b[0m",
            "\u001b[0;31mTypeError\u001b[0m                                 Traceback (most recent call last)",
            "\u001b[0;32m<ipython-input-10-c4f33ca82245>\u001b[0m in \u001b[0;36m<cell line: 2>\u001b[0;34m()\u001b[0m\n\u001b[1;32m      1\u001b[0m \u001b[0;31m#Como el diccionario es un conjunto de listas, no puedes acceder directamente\u001b[0m\u001b[0;34m\u001b[0m\u001b[0;34m\u001b[0m\u001b[0m\n\u001b[0;32m----> 2\u001b[0;31m \u001b[0md\u001b[0m\u001b[0;34m.\u001b[0m\u001b[0mvalues\u001b[0m\u001b[0;34m(\u001b[0m\u001b[0;34m)\u001b[0m\u001b[0;34m[\u001b[0m\u001b[0;36m0\u001b[0m\u001b[0;34m]\u001b[0m\u001b[0;34m\u001b[0m\u001b[0;34m\u001b[0m\u001b[0m\n\u001b[0m",
            "\u001b[0;31mTypeError\u001b[0m: 'dict_values' object is not subscriptable"
          ]
        }
      ]
    },
    {
      "cell_type": "code",
      "source": [
        "d.items() # muestra una vista de los elementos del diccionario d"
      ],
      "metadata": {
        "colab": {
          "base_uri": "https://localhost:8080/"
        },
        "id": "fDUIC8AF8-RS",
        "outputId": "495a296a-aba7-4afd-cc91-317d4c7a8ced"
      },
      "execution_count": 11,
      "outputs": [
        {
          "output_type": "execute_result",
          "data": {
            "text/plain": [
              "dict_items([('Raquel', ['Masha', 'Snow']), ('Nivel', [7, 10]), ('Calificaciones', [6.2, 8.3])])"
            ]
          },
          "metadata": {},
          "execution_count": 11
        }
      ]
    },
    {
      "cell_type": "markdown",
      "source": [
        "## **Ejemplo de la v.a. uniforme**\n",
        "\n",
        "Sea el experimento aleatorio de lanzar dos dados justos:\n",
        "\n",
        "* $\\Omega = \\{1,2,3,4,5,6\\} \\times \\{1,2,3,4,5,6\\}$\n",
        "* $\\mathcal{F} = P (\\Omega)$\n",
        "* Para $w=(i,j)$ donde $i,j \\in\\{1,...,6\\}$ tal que\n",
        "\n",
        "  $$\\mathbb{P}(\\{\\omega\\})=\\frac{1}{36}$$\n",
        "  \n",
        "Vamos a definir a la siguienute variable aleatoria\n",
        "\n",
        "$$S:\\Omega \\to R_{S} $$\n",
        "\n",
        "donde $R_{S}=\\{2,3,4,5,6,7,8,9,10,11,12\\}$\n",
        "\n",
        "Para que entendamos la ley de una v.a, basta con entender los siguientes datos\n",
        "\n",
        "$$\\{(k, \\mathbb{P}(S=k))\\}_{k \\in R_{S}}$$\n",
        "\n",
        "\n",
        "Vamos a entender a S como eventos.\n",
        "\n",
        "Sea $S_n$ el evento donde la suma de las caras da $n$\n",
        "\n",
        "$$S_{n} = \\{(i,j)\\in \\Omega \\mid i+j=k \\}$$\n"
      ],
      "metadata": {
        "id": "xHLrJnTQ9myz"
      }
    },
    {
      "cell_type": "code",
      "source": [
        "from itertools import product # para usar el producto cartesiano\n",
        "from fractions import Fraction # para usar la función Fraction"
      ],
      "metadata": {
        "id": "qqNUhwBJA8qN"
      },
      "execution_count": 12,
      "outputs": []
    },
    {
      "cell_type": "markdown",
      "source": [
        "Primero vamos a crear una función de probabilidad global:"
      ],
      "metadata": {
        "id": "N-OCckJ4BOYW"
      }
    },
    {
      "cell_type": "code",
      "source": [
        "def P(A,Omega):\n",
        "  \"\"\"\n",
        "  Calcula la probabilidad de un evento A dentro del espacio muestral Omega.\n",
        "\n",
        "  Parámetros:\n",
        "  A (iterable): Subconjunto de Omega, representa el evento.\n",
        "  Omega (iterable): Espacio muestral, conjunto de todos los posibles resultados.\n",
        "\n",
        "  Retorno:\n",
        "  Fraction: Probabilidad del evento A, como una fracción de elementos en A sobre los de Omega.\n",
        "  \"\"\"\n",
        "  P=Fraction(len(A),len(Omega))\n",
        "  return P"
      ],
      "metadata": {
        "id": "awMhfilOA85C"
      },
      "execution_count": 14,
      "outputs": []
    },
    {
      "cell_type": "code",
      "source": [
        "# Crea un conjunto de pares (i, j) representando los resultados de lanzar dos\n",
        "# dados, donde la suma de los valores es igual a 2.\n",
        "\n",
        "S_2={(i,j) for i in range (1,7) for j in range(1,7) if i+j==2}\n",
        "\n",
        "# S_2: Conjunto de tuplas donde la suma de los valores de i y j es exactamente 2.\n",
        "S_2"
      ],
      "metadata": {
        "colab": {
          "base_uri": "https://localhost:8080/"
        },
        "id": "WvlO7jzICyjI",
        "outputId": "52778b0e-ff44-40c2-c9d0-c68923e9e494"
      },
      "execution_count": 15,
      "outputs": [
        {
          "output_type": "execute_result",
          "data": {
            "text/plain": [
              "{(1, 1)}"
            ]
          },
          "metadata": {},
          "execution_count": 15
        }
      ]
    },
    {
      "cell_type": "markdown",
      "source": [
        "Ahora, realizar esto para cada valor de $n$ quita tiempo. Vamos a hacer esto más rápido utilizando diccionarios"
      ],
      "metadata": {
        "id": "M1Bh9B07DowI"
      }
    },
    {
      "cell_type": "code",
      "source": [
        "# Primero vamos a crear a nuestro espacio muestral Omega\n",
        "# Crea una lista L con los números del 1 al 6, representando los posibles\n",
        "# resultados de un dado.\n",
        "L=[i for i in range (1,7)]\n",
        "\n",
        "# Crea el espacio muestral Omega como un conjunto de todos los pares posibles (i, j),\n",
        "# donde i y j son los resultados de lanzar dos dados.\n",
        "# 'product(L, repeat=2)' genera el producto cartesiano de L consigo misma, es\n",
        "# decir, todas las combinaciones posibles de dos números de 1 a 6.\n",
        "Omega= set(product(L,repeat=2))\n",
        "Omega"
      ],
      "metadata": {
        "colab": {
          "base_uri": "https://localhost:8080/"
        },
        "id": "pUR4AoNFED9g",
        "outputId": "bdf74628-6b09-47f0-ee17-02bd41f923e5"
      },
      "execution_count": 16,
      "outputs": [
        {
          "output_type": "execute_result",
          "data": {
            "text/plain": [
              "{(1, 1),\n",
              " (1, 2),\n",
              " (1, 3),\n",
              " (1, 4),\n",
              " (1, 5),\n",
              " (1, 6),\n",
              " (2, 1),\n",
              " (2, 2),\n",
              " (2, 3),\n",
              " (2, 4),\n",
              " (2, 5),\n",
              " (2, 6),\n",
              " (3, 1),\n",
              " (3, 2),\n",
              " (3, 3),\n",
              " (3, 4),\n",
              " (3, 5),\n",
              " (3, 6),\n",
              " (4, 1),\n",
              " (4, 2),\n",
              " (4, 3),\n",
              " (4, 4),\n",
              " (4, 5),\n",
              " (4, 6),\n",
              " (5, 1),\n",
              " (5, 2),\n",
              " (5, 3),\n",
              " (5, 4),\n",
              " (5, 5),\n",
              " (5, 6),\n",
              " (6, 1),\n",
              " (6, 2),\n",
              " (6, 3),\n",
              " (6, 4),\n",
              " (6, 5),\n",
              " (6, 6)}"
            ]
          },
          "metadata": {},
          "execution_count": 16
        }
      ]
    },
    {
      "cell_type": "code",
      "source": [
        "# S: Diccionario que asocia cada par (i, j) con la suma de sus elementos.\n",
        "S={(i,j):i+j for i,j in Omega}\n",
        "S"
      ],
      "metadata": {
        "colab": {
          "base_uri": "https://localhost:8080/"
        },
        "id": "5B0-jYPPFNVJ",
        "outputId": "38136f52-7f21-4763-afc9-bfe6ec55964b"
      },
      "execution_count": 17,
      "outputs": [
        {
          "output_type": "execute_result",
          "data": {
            "text/plain": [
              "{(3, 4): 7,\n",
              " (4, 3): 7,\n",
              " (3, 1): 4,\n",
              " (5, 4): 9,\n",
              " (4, 6): 10,\n",
              " (5, 1): 6,\n",
              " (2, 2): 4,\n",
              " (1, 6): 7,\n",
              " (2, 5): 7,\n",
              " (1, 3): 4,\n",
              " (6, 2): 8,\n",
              " (6, 5): 11,\n",
              " (4, 2): 6,\n",
              " (4, 5): 9,\n",
              " (3, 3): 6,\n",
              " (5, 6): 11,\n",
              " (3, 6): 9,\n",
              " (5, 3): 8,\n",
              " (2, 4): 6,\n",
              " (1, 2): 3,\n",
              " (2, 1): 3,\n",
              " (1, 5): 6,\n",
              " (6, 1): 7,\n",
              " (6, 4): 10,\n",
              " (3, 2): 5,\n",
              " (4, 1): 5,\n",
              " (3, 5): 8,\n",
              " (5, 2): 7,\n",
              " (4, 4): 8,\n",
              " (5, 5): 10,\n",
              " (1, 1): 2,\n",
              " (1, 4): 5,\n",
              " (2, 3): 5,\n",
              " (2, 6): 8,\n",
              " (6, 6): 12,\n",
              " (6, 3): 9}"
            ]
          },
          "metadata": {},
          "execution_count": 17
        }
      ]
    },
    {
      "cell_type": "code",
      "source": [
        "# Crea un diccionario por defecto llamado dS, donde cada clave se asocia\n",
        "# automáticamente con un conjunto vacío si no existe previamente.\n",
        "from collections import defaultdict\n",
        "dS=defaultdict(set)\n",
        "dS"
      ],
      "metadata": {
        "colab": {
          "base_uri": "https://localhost:8080/"
        },
        "id": "bxyLdJMkGN2q",
        "outputId": "4f98f5cc-57b5-4c94-eb6a-eb5758366b9f"
      },
      "execution_count": 18,
      "outputs": [
        {
          "output_type": "execute_result",
          "data": {
            "text/plain": [
              "defaultdict(set, {})"
            ]
          },
          "metadata": {},
          "execution_count": 18
        }
      ]
    },
    {
      "cell_type": "markdown",
      "source": [
        "Vamos a añadir elementos a un diccionario que está vacío"
      ],
      "metadata": {
        "id": "dY2KbZyLHdZc"
      }
    },
    {
      "cell_type": "code",
      "source": [
        "for (i,j) in S.items():\n",
        "  print(j)\n",
        "#Si imprimo j, me da los valores del diccionario\n",
        "#Si imprimo i, me da los elementos de la izquierda (llaves)"
      ],
      "metadata": {
        "colab": {
          "base_uri": "https://localhost:8080/"
        },
        "id": "CEWRppwPHpNZ",
        "outputId": "4ea6be82-6d86-419b-a051-38f377db3ad9"
      },
      "execution_count": 19,
      "outputs": [
        {
          "output_type": "stream",
          "name": "stdout",
          "text": [
            "7\n",
            "7\n",
            "4\n",
            "9\n",
            "10\n",
            "6\n",
            "4\n",
            "7\n",
            "7\n",
            "4\n",
            "8\n",
            "11\n",
            "6\n",
            "9\n",
            "6\n",
            "11\n",
            "9\n",
            "8\n",
            "6\n",
            "3\n",
            "3\n",
            "6\n",
            "7\n",
            "10\n",
            "5\n",
            "5\n",
            "8\n",
            "7\n",
            "8\n",
            "10\n",
            "2\n",
            "5\n",
            "5\n",
            "8\n",
            "12\n",
            "9\n"
          ]
        }
      ]
    },
    {
      "cell_type": "code",
      "source": [
        "# Este bucle itera sobre los elementos del diccionario S Para cada j (la suma),\n",
        "# se añade la tupla i (el par de dados) al conjunto asociado a esa suma en el\n",
        "# diccionario dS\n",
        "\n",
        "for i,j in S.items():\n",
        "  dS[j].add(i)\n",
        "\n",
        "dS"
      ],
      "metadata": {
        "colab": {
          "base_uri": "https://localhost:8080/"
        },
        "id": "gpVakfaKIxCh",
        "outputId": "96e02625-bd2e-4de5-8b84-ab3b2f5e332c"
      },
      "execution_count": 20,
      "outputs": [
        {
          "output_type": "execute_result",
          "data": {
            "text/plain": [
              "defaultdict(set,\n",
              "            {7: {(1, 6), (2, 5), (3, 4), (4, 3), (5, 2), (6, 1)},\n",
              "             4: {(1, 3), (2, 2), (3, 1)},\n",
              "             9: {(3, 6), (4, 5), (5, 4), (6, 3)},\n",
              "             10: {(4, 6), (5, 5), (6, 4)},\n",
              "             6: {(1, 5), (2, 4), (3, 3), (4, 2), (5, 1)},\n",
              "             8: {(2, 6), (3, 5), (4, 4), (5, 3), (6, 2)},\n",
              "             11: {(5, 6), (6, 5)},\n",
              "             3: {(1, 2), (2, 1)},\n",
              "             5: {(1, 4), (2, 3), (3, 2), (4, 1)},\n",
              "             2: {(1, 1)},\n",
              "             12: {(6, 6)}})"
            ]
          },
          "metadata": {},
          "execution_count": 20
        }
      ]
    },
    {
      "cell_type": "code",
      "source": [
        "# Crea un nuevo diccionario leyS donde: k es la suma de los dados (valor en dS)\n",
        "# A es el conjunto de pares (i, j) que generan dicha suma\n",
        "# Para cada k, se calcula la probabilidad de obtener dicha suma usando la\n",
        "# función P, con el evento A y el espacio muestral Omega\n",
        "\n",
        "leyS={k: P(A,Omega) for k, A in dS.items()}\n",
        "leyS"
      ],
      "metadata": {
        "colab": {
          "base_uri": "https://localhost:8080/"
        },
        "id": "Ub_0LYV8KjMn",
        "outputId": "2b08f114-dac3-4484-c5c7-19846e384da4"
      },
      "execution_count": 21,
      "outputs": [
        {
          "output_type": "execute_result",
          "data": {
            "text/plain": [
              "{7: Fraction(1, 6),\n",
              " 4: Fraction(1, 12),\n",
              " 9: Fraction(1, 9),\n",
              " 10: Fraction(1, 12),\n",
              " 6: Fraction(5, 36),\n",
              " 8: Fraction(5, 36),\n",
              " 11: Fraction(1, 18),\n",
              " 3: Fraction(1, 18),\n",
              " 5: Fraction(1, 9),\n",
              " 2: Fraction(1, 36),\n",
              " 12: Fraction(1, 36)}"
            ]
          },
          "metadata": {},
          "execution_count": 21
        }
      ]
    },
    {
      "cell_type": "markdown",
      "source": [
        "## **Introducción a Pandas en Python**\n",
        "\n",
        "**Pandas** es una biblioteca de Python muy popular para la manipulación y análisis de datos. Proporciona estructuras de datos de alto rendimiento como `Series` y `DataFrame` que hacen que trabajar con datos tabulares y series temporales sea fácil.\n",
        "\n",
        "1.  Importar Pandas\n",
        "Para empezar a trabajar con Pandas, lo primero es importarlo:"
      ],
      "metadata": {
        "id": "btN4lkDMXY3t"
      }
    },
    {
      "cell_type": "code",
      "source": [
        "import pandas as pd # se importa pandas"
      ],
      "metadata": {
        "id": "O8JfPQevYfGN"
      },
      "execution_count": 22,
      "outputs": []
    },
    {
      "cell_type": "markdown",
      "source": [
        "#### **Series en Pandas**\n",
        "\n",
        "Una Series es una estructura de datos unidimensional (similar a una lista o un array de NumPy), pero con etiquetas. Aquí tienes un ejemplo:"
      ],
      "metadata": {
        "id": "AUr_u7e-hKFF"
      }
    },
    {
      "cell_type": "code",
      "source": [
        "# Crear una Serie\n",
        "serie = pd.Series([1, 3, 5, 7, 9], index=['a', 'b', 'c', 'd', 'e'])\n",
        "print(serie)"
      ],
      "metadata": {
        "colab": {
          "base_uri": "https://localhost:8080/"
        },
        "id": "hs-fRwL7hsrb",
        "outputId": "3c50927b-7b0f-4199-b5ce-9a9be3825784"
      },
      "execution_count": 23,
      "outputs": [
        {
          "output_type": "stream",
          "name": "stdout",
          "text": [
            "a    1\n",
            "b    3\n",
            "c    5\n",
            "d    7\n",
            "e    9\n",
            "dtype: int64\n"
          ]
        }
      ]
    },
    {
      "cell_type": "code",
      "source": [
        "# Acceder a un elemento de la Serie\n",
        "print(serie['c'])"
      ],
      "metadata": {
        "colab": {
          "base_uri": "https://localhost:8080/"
        },
        "id": "zsWUmzJnhubI",
        "outputId": "8aafb5f6-5ff4-4463-ac08-88abe91d74c7"
      },
      "execution_count": 24,
      "outputs": [
        {
          "output_type": "stream",
          "name": "stdout",
          "text": [
            "5\n"
          ]
        }
      ]
    },
    {
      "cell_type": "markdown",
      "source": [
        "Regresando a nuestro ejermplo de la suma de las caras del dado, tenemos:"
      ],
      "metadata": {
        "id": "xg_OVP6EirJ3"
      }
    },
    {
      "cell_type": "code",
      "source": [
        "# # Convierte el diccionario leyS en una serie de pandas,\n",
        "# donde las claves del diccionario se convierten en el índice de la serie.\n",
        "leyS=pd.Series(leyS)\n",
        "\n",
        "# Ordena la columna de las sumas de menor a mayor\n",
        "leyS=leyS.sort_index()\n",
        "leyS"
      ],
      "metadata": {
        "colab": {
          "base_uri": "https://localhost:8080/",
          "height": 429
        },
        "id": "HeDqrKG-Yi3x",
        "outputId": "b4d4862f-cfa4-48ab-f25a-849a5b638d28"
      },
      "execution_count": 25,
      "outputs": [
        {
          "output_type": "execute_result",
          "data": {
            "text/plain": [
              "2     1/36\n",
              "3     1/18\n",
              "4     1/12\n",
              "5      1/9\n",
              "6     5/36\n",
              "7      1/6\n",
              "8     5/36\n",
              "9      1/9\n",
              "10    1/12\n",
              "11    1/18\n",
              "12    1/36\n",
              "dtype: object"
            ],
            "text/html": [
              "<div>\n",
              "<style scoped>\n",
              "    .dataframe tbody tr th:only-of-type {\n",
              "        vertical-align: middle;\n",
              "    }\n",
              "\n",
              "    .dataframe tbody tr th {\n",
              "        vertical-align: top;\n",
              "    }\n",
              "\n",
              "    .dataframe thead th {\n",
              "        text-align: right;\n",
              "    }\n",
              "</style>\n",
              "<table border=\"1\" class=\"dataframe\">\n",
              "  <thead>\n",
              "    <tr style=\"text-align: right;\">\n",
              "      <th></th>\n",
              "      <th>0</th>\n",
              "    </tr>\n",
              "  </thead>\n",
              "  <tbody>\n",
              "    <tr>\n",
              "      <th>2</th>\n",
              "      <td>1/36</td>\n",
              "    </tr>\n",
              "    <tr>\n",
              "      <th>3</th>\n",
              "      <td>1/18</td>\n",
              "    </tr>\n",
              "    <tr>\n",
              "      <th>4</th>\n",
              "      <td>1/12</td>\n",
              "    </tr>\n",
              "    <tr>\n",
              "      <th>5</th>\n",
              "      <td>1/9</td>\n",
              "    </tr>\n",
              "    <tr>\n",
              "      <th>6</th>\n",
              "      <td>5/36</td>\n",
              "    </tr>\n",
              "    <tr>\n",
              "      <th>7</th>\n",
              "      <td>1/6</td>\n",
              "    </tr>\n",
              "    <tr>\n",
              "      <th>8</th>\n",
              "      <td>5/36</td>\n",
              "    </tr>\n",
              "    <tr>\n",
              "      <th>9</th>\n",
              "      <td>1/9</td>\n",
              "    </tr>\n",
              "    <tr>\n",
              "      <th>10</th>\n",
              "      <td>1/12</td>\n",
              "    </tr>\n",
              "    <tr>\n",
              "      <th>11</th>\n",
              "      <td>1/18</td>\n",
              "    </tr>\n",
              "    <tr>\n",
              "      <th>12</th>\n",
              "      <td>1/36</td>\n",
              "    </tr>\n",
              "  </tbody>\n",
              "</table>\n",
              "</div><br><label><b>dtype:</b> object</label>"
            ]
          },
          "metadata": {},
          "execution_count": 25
        }
      ]
    },
    {
      "cell_type": "markdown",
      "source": [
        "# **Ejercicios**\n",
        "\n",
        "\n",
        "1.   Documenta tu colab\n",
        "2.   Calcular la ley de las siguientes variables aleatorias.\n",
        "* La diferencia de las caras es mayor a 1.\n",
        "    \n",
        "\n",
        "\n",
        "\n",
        "\n",
        "\n",
        "\n",
        "\n",
        "\n"
      ],
      "metadata": {
        "id": "3E0_835LZidy"
      }
    },
    {
      "cell_type": "code",
      "source": [
        "# Importar librerías necesarias\n",
        "import matplotlib.pyplot as plt\n",
        "from fractions import Fraction\n",
        "from itertools import product\n",
        "from collections import defaultdict\n",
        "import pandas as pd\n",
        "\n",
        "# Función para calcular la probabilidad de un evento A en un espacio muestral Omega\n",
        "def P(A, Omega):\n",
        "    return Fraction(len(A), len(Omega))\n",
        "\n",
        "# 1. Crear el espacio muestral Omega\n",
        "L = [i for i in range(1, 7)]\n",
        "Omega = set(product(L, repeat=2))"
      ],
      "metadata": {
        "id": "27gxMC5JV93Q"
      },
      "execution_count": 1,
      "outputs": []
    },
    {
      "cell_type": "code",
      "source": [
        "# La diferencia de las caras es mayor a 1\n",
        "diferencia_mayor_1 = {(i, j) for i, j in Omega if (i - j) > 1}\n",
        "diferencia_mayor_1"
      ],
      "metadata": {
        "colab": {
          "base_uri": "https://localhost:8080/"
        },
        "id": "rJDbHWCAkzyN",
        "outputId": "b0bad8f1-82b8-45c5-941d-054088ce036f"
      },
      "execution_count": 12,
      "outputs": [
        {
          "output_type": "execute_result",
          "data": {
            "text/plain": [
              "{(3, 1),\n",
              " (4, 1),\n",
              " (4, 2),\n",
              " (5, 1),\n",
              " (5, 2),\n",
              " (5, 3),\n",
              " (6, 1),\n",
              " (6, 2),\n",
              " (6, 3),\n",
              " (6, 4)}"
            ]
          },
          "metadata": {},
          "execution_count": 12
        }
      ]
    },
    {
      "cell_type": "code",
      "source": [
        "# Calcula la probabilidad de que la diferencia de las caras sea mayor a 1\n",
        "P_diferencia_mayor_1 = P(A=diferencia_mayor_1, Omega=Omega)\n",
        "P_diferencia_mayor_1"
      ],
      "metadata": {
        "colab": {
          "base_uri": "https://localhost:8080/"
        },
        "id": "iW0bfRzBWfJl",
        "outputId": "806ea85b-68a8-4b39-a935-7fc41035e201"
      },
      "execution_count": 13,
      "outputs": [
        {
          "output_type": "execute_result",
          "data": {
            "text/plain": [
              "Fraction(5, 18)"
            ]
          },
          "metadata": {},
          "execution_count": 13
        }
      ]
    },
    {
      "cell_type": "markdown",
      "source": [
        "  * La suma de las caras sea par."
      ],
      "metadata": {
        "id": "dHBTt_Mfk3Uk"
      }
    },
    {
      "cell_type": "code",
      "source": [
        "# La suma de las caras sea par\n",
        "suma_par = {(i, j) for i, j in Omega if (i + j) % 2 == 0}\n",
        "suma_par"
      ],
      "metadata": {
        "colab": {
          "base_uri": "https://localhost:8080/"
        },
        "id": "OA0EznTAkWQg",
        "outputId": "0ea93f1a-d128-4a22-e15c-beaf25547504"
      },
      "execution_count": 8,
      "outputs": [
        {
          "output_type": "execute_result",
          "data": {
            "text/plain": [
              "{(1, 1),\n",
              " (1, 3),\n",
              " (1, 5),\n",
              " (2, 2),\n",
              " (2, 4),\n",
              " (2, 6),\n",
              " (3, 1),\n",
              " (3, 3),\n",
              " (3, 5),\n",
              " (4, 2),\n",
              " (4, 4),\n",
              " (4, 6),\n",
              " (5, 1),\n",
              " (5, 3),\n",
              " (5, 5),\n",
              " (6, 2),\n",
              " (6, 4),\n",
              " (6, 6)}"
            ]
          },
          "metadata": {},
          "execution_count": 8
        }
      ]
    },
    {
      "cell_type": "code",
      "source": [
        "# Calcula la probabilidad de que la suma de las caras sea par\n",
        "P_suma_par = P(suma_par, Omega)\n",
        "P_suma_par"
      ],
      "metadata": {
        "colab": {
          "base_uri": "https://localhost:8080/"
        },
        "id": "tfeqjOxRWjxw",
        "outputId": "23920c93-40ce-41ba-cc9c-dbe8b0a2fd09"
      },
      "execution_count": 9,
      "outputs": [
        {
          "output_type": "execute_result",
          "data": {
            "text/plain": [
              "Fraction(1, 2)"
            ]
          },
          "metadata": {},
          "execution_count": 9
        }
      ]
    },
    {
      "cell_type": "markdown",
      "source": [
        "3.   Verificar en cada caso, que\n",
        "$$\\sum_{k\\in R_{X}}\\mathbb{P}(X=k)=1$$\n",
        "\n"
      ],
      "metadata": {
        "id": "8j1bWwnHkYb-"
      }
    },
    {
      "cell_type": "code",
      "source": [
        "# Para la diferencia mayor a 1:\n",
        "verificacion_diferencia_mayor_1 = P(diferencia_mayor_1, Omega) + P(Omega - diferencia_mayor_1, Omega)\n",
        "print(\"Suma de probabilidades diferencia mayor a 1:\", verificacion_diferencia_mayor_1)\n",
        "\n",
        "# Para la suma par:\n",
        "verificacion_suma_par = P(suma_par, Omega) + P(Omega - suma_par, Omega)\n",
        "print(\"Suma de probabilidades suma par:\", verificacion_suma_par)"
      ],
      "metadata": {
        "colab": {
          "base_uri": "https://localhost:8080/"
        },
        "id": "eYtrFauKlYzR",
        "outputId": "eb35f903-03cc-4262-c7db-c46c13d8c158"
      },
      "execution_count": 14,
      "outputs": [
        {
          "output_type": "stream",
          "name": "stdout",
          "text": [
            "Suma de probabilidades diferencia mayor a 1: 1\n",
            "Suma de probabilidades suma par: 1\n"
          ]
        }
      ]
    },
    {
      "cell_type": "markdown",
      "source": [
        "4.  Grafica la función de distribución de la v.a. $S= \\{(i,j)\\in \\Omega \\mid i+j=k \\}$\n"
      ],
      "metadata": {
        "id": "6zVCQiHMkYJ_"
      }
    },
    {
      "cell_type": "code",
      "source": [
        "# Crear un diccionario con la suma de los valores de los dados\n",
        "S = {(i, j): i + j for i, j in Omega}\n",
        "\n",
        "# Crear un diccionario por default donde cada clave sea la suma y cada valor sea un conjunto de pares (i, j)\n",
        "dS = defaultdict(set)\n",
        "for i, j in S.items():\n",
        "    dS[j].add(i)  # Añadiendo los pares (i, j) al diccionario dS según la suma\n",
        "\n",
        "# Calcular la ley de probabilidad (frecuencia relativa) para cada valor de la suma\n",
        "leyS = {k: P(A, Omega) for k, A in dS.items()}\n",
        "\n",
        "# Convertir leyS a una Serie de pandas y ordenarla por su índice (la suma)\n",
        "leyS = pd.Series(leyS)\n",
        "leyS = leyS.sort_index()\n",
        "\n",
        "# Graficar la función de distribución de la variable aleatoria S (suma de dos dados)\n",
        "plt.bar(leyS.index, leyS.values)\n",
        "plt.title('Función de Distribución de la Suma de dos Dados')\n",
        "plt.xlabel('Suma de las caras (k)')\n",
        "plt.ylabel('Probabilidad')\n",
        "plt.show()"
      ],
      "metadata": {
        "colab": {
          "base_uri": "https://localhost:8080/",
          "height": 472
        },
        "id": "rLDhUzbDtBSq",
        "outputId": "a73fc6e1-b51c-411d-c955-f018e26c2980"
      },
      "execution_count": 15,
      "outputs": [
        {
          "output_type": "display_data",
          "data": {
            "text/plain": [
              "<Figure size 640x480 with 1 Axes>"
            ],
            "image/png": "[encoded data removed]"
          },
          "metadata": {}
        }
      ]
    },
    {
      "cell_type": "markdown",
      "source": [
        "5.   Sube tu notebook a GitHub."
      ],
      "metadata": {
        "id": "45g4X9Hxkg-m"
      }
    }
  ]
}